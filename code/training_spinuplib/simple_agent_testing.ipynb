{
 "cells": [
  {
   "cell_type": "markdown",
   "metadata": {
    "colab_type": "text",
    "id": "x83dMPapQBN6"
   },
   "source": [
    "# Testing agent in different limit-case configurations (spinup library)"
   ]
  },
  {
   "cell_type": "code",
   "execution_count": 7,
   "metadata": {
    "colab": {},
    "colab_type": "code",
    "id": "fuJhdd479TpP"
   },
   "outputs": [
    {
     "ename": "ImportError",
     "evalue": "attempted relative import with no known parent package",
     "output_type": "error",
     "traceback": [
      "\u001b[0;31m---------------------------------------------------------------------------\u001b[0m",
      "\u001b[0;31mImportError\u001b[0m                               Traceback (most recent call last)",
      "\u001b[0;32m<ipython-input-7-99acd1c7335e>\u001b[0m in \u001b[0;36m<module>\u001b[0;34m\u001b[0m\n\u001b[1;32m      4\u001b[0m \u001b[0;32mfrom\u001b[0m \u001b[0mgym\u001b[0m\u001b[0;34m.\u001b[0m\u001b[0menvs\u001b[0m\u001b[0;34m.\u001b[0m\u001b[0mregistration\u001b[0m \u001b[0;32mimport\u001b[0m \u001b[0mregister\u001b[0m\u001b[0;34m\u001b[0m\u001b[0;34m\u001b[0m\u001b[0m\n\u001b[1;32m      5\u001b[0m \u001b[0;34m\u001b[0m\u001b[0m\n\u001b[0;32m----> 6\u001b[0;31m \u001b[0;32mfrom\u001b[0m \u001b[0;34m.\u001b[0m\u001b[0;34m.\u001b[0m\u001b[0mcustom_functions\u001b[0m\u001b[0;34m.\u001b[0m\u001b[0mcustom_functions\u001b[0m \u001b[0;32mimport\u001b[0m \u001b[0menv_fn\u001b[0m\u001b[0;34m\u001b[0m\u001b[0;34m\u001b[0m\u001b[0m\n\u001b[0m\u001b[1;32m      7\u001b[0m \u001b[0;32mfrom\u001b[0m \u001b[0mcustom_functions\u001b[0m\u001b[0;34m.\u001b[0m\u001b[0mcustom_functions\u001b[0m \u001b[0;32mimport\u001b[0m \u001b[0mtest_agent\u001b[0m\u001b[0;34m\u001b[0m\u001b[0;34m\u001b[0m\u001b[0m\n\u001b[1;32m      8\u001b[0m \u001b[0;32mfrom\u001b[0m \u001b[0mcustom_functions\u001b[0m\u001b[0;34m.\u001b[0m\u001b[0mcustom_functions\u001b[0m \u001b[0;32mimport\u001b[0m \u001b[0mplot_test\u001b[0m\u001b[0;34m\u001b[0m\u001b[0;34m\u001b[0m\u001b[0m\n",
      "\u001b[0;31mImportError\u001b[0m: attempted relative import with no known parent package"
     ]
    }
   ],
   "source": [
    "import gym\n",
    "from gym import spaces\n",
    "from gym.utils import seeding\n",
    "from gym.envs.registration import register\n",
    "\n",
    "from ..custom_functions.custom_functions import env_fn \n",
    "from custom_functions.custom_functions import test_agent\n",
    "from custom_functions.custom_functions import plot_test\n",
    "from custom_functions.custom_functions import evaluate_control\n",
    "\n",
    "import spinup\n",
    "\n",
    "from os import path\n",
    "from scipy.integrate import solve_ivp\n",
    "import random\n",
    "import torch\n",
    "import numpy as np\n",
    "from collections import deque\n",
    "import matplotlib.pyplot as plt\n",
    "%matplotlib inline\n",
    "\n",
    "#from vpython import *\n",
    "from functools import partial\n",
    "\n",
    "register(id='gyroscoperobustenv-v0', entry_point='gym_GyroscopeEnv.envs:GyroscopeRobustEnv')\n",
    "register(id='gyroscopeenv-v0', entry_point='gym_GyroscopeEnv.envs:GyroscopeEnv')"
   ]
  },
  {
   "cell_type": "markdown",
   "metadata": {},
   "source": [
    "#### Step"
   ]
  },
  {
   "cell_type": "code",
   "execution_count": 6,
   "metadata": {},
   "outputs": [
    {
     "name": "stdout",
     "output_type": "stream",
     "text": [
      "Total cumulative reward: -120.29801622121404\n",
      "Total cumulative reward: -35.01880873942759\n"
     ]
    }
   ],
   "source": [
    "# Test paramaters\n",
    "env_name = 'gyroscopeenv-v0'\n",
    "reward_type = 'Normalized'\n",
    "reward_args = {'k': 0.05, 'qx2' : 0.05, 'qx4' : 0.05, 'pu1':0.05,'pu2':0.05}\n",
    "seed = 0\n",
    "agent_path = 'td3_n_it2_an_var1_extralay_extralay_s0/'#'linearized controller'\n",
    "init_state = [0,0,20*np.pi/180,0,0,20*np.pi/180,200*2*np.pi/60]\n",
    "ep_len = 400\n",
    "t_end = ep_len*0.05\n",
    "x1_ref_seq = np.append(np.full(100,0),np.full(500,60*np.pi/180))\n",
    "x3_ref_seq = np.append(np.full(100,20*np.pi/180),np.full(300,20*np.pi/180))\n",
    "\n",
    "# Perform testing\n",
    "_,_,x1_eval_td3,_,x3_eval_td3,_,x1_ref_eval_td3,x3_ref_eval_td3,_ = test_agent(env_name,reward_type,reward_args,seed,agent_path,init_state,t_end,ep_len,x1_ref_seq,x3_ref_seq)\n",
    "_,_,x1_eval_lin,_,x3_eval_lin,_,x1_ref_eval_lin,x3_ref_eval_lin,_ = test_agent(env_name,reward_type,reward_args,seed,'linearized controller',init_state,t_end,ep_len,x1_ref_seq,x3_ref_seq)"
   ]
  },
  {
   "cell_type": "code",
   "execution_count": 7,
   "metadata": {},
   "outputs": [],
   "source": [
    "time = np.linspace(0, t_end, len(x1_eval_td3))\n",
    "\n",
    "plt.figure(figsize=(10,7))\n",
    "plt.title(r'',fontsize=20, y=1.05)\n",
    "plt.xlabel('Time [s]',fontsize=16)\n",
    "plt.ylabel('Angular position [°]',fontsize=16)\n",
    "plt.ylim([-20,100])\n",
    "plt.xlim([0,20])\n",
    "plt.grid()\n",
    "\n",
    "# RL Agent\n",
    "plt.plot(time,180*(x1_eval_td3)/np.pi,'r-',label=r'$\\theta$ RL')\n",
    "plt.plot(time,180*(x1_eval_lin)/np.pi,'r-', linestyle='dashed',label=r'$\\theta$ FL')\n",
    "\n",
    "# FL Agent\n",
    "plt.plot(time,180*(x3_eval_td3)/np.pi,'b-',label=r'$\\phi$ RL')\n",
    "plt.plot(time,180*(x3_eval_lin)/np.pi,'b-', linestyle='dashed',label=r'$\\phi$ FL')\n",
    "\n",
    "# Reference\n",
    "plt.plot(time, 180*x1_ref_eval_td3/np.pi, color='black',label=r'Reference on $\\theta$')\n",
    "\n",
    "plt.legend()\n",
    "plt.savefig('track.pgf')"
   ]
  },
  {
   "cell_type": "markdown",
   "metadata": {},
   "source": [
    "#### Multi step"
   ]
  },
  {
   "cell_type": "code",
   "execution_count": 4,
   "metadata": {},
   "outputs": [
    {
     "name": "stderr",
     "output_type": "stream",
     "text": [
      "/home/matthieulc/Documents/MA2/DRLGyro/resources/drlgyroenv/lib/python3.6/site-packages/gym/logger.py:30: UserWarning: \u001b[33mWARN: Box bound precision lowered by casting to float32\u001b[0m\n",
      "  warnings.warn(colorize('%s: %s'%('WARN', msg % args), 'yellow'))\n"
     ]
    },
    {
     "name": "stdout",
     "output_type": "stream",
     "text": [
      "Total cumulative reward: -365.8189061055496\n",
      "Total cumulative reward: -189.5276608981765\n"
     ]
    }
   ],
   "source": [
    "# Test paramaters\n",
    "env_name = 'gyroscopeenv-v0'\n",
    "reward_type = 'Normalized'\n",
    "reward_args = {'k': 0.05, 'qx2' : 0.05, 'qx4' : 0.05, 'pu1':0.05,'pu2':0.05}\n",
    "seed = 0\n",
    "agent_path = 'best_agent_robustified/'#'linearized controller'\n",
    "init_state = [0,0,0*np.pi/180,0,0,0,200*2*np.pi/60]\n",
    "ep_len = 800\n",
    "t_end = ep_len*0.05\n",
    "x1_ref_seq = np.append(np.full(100,0),np.full(300,60*np.pi/180))\n",
    "x1_ref_seq = np.append(x1_ref_seq,np.full(300,-60*np.pi/180))\n",
    "x1_ref_seq = np.append(x1_ref_seq,np.full(300,0*np.pi/180))\n",
    "#x1_ref_seq = np.append(x1_ref_seq,np.full(400,1))\n",
    "#x1_ref_seq = np.full(1000,0)+1*np.sin(np.linspace(0,6*np.pi,1000))\n",
    "x3_ref_seq = np.append(np.full(100,0*np.pi/180),np.full(700,0*np.pi/180))\n",
    "\n",
    "# Perform testing\n",
    "_,_,x1_eval_td3,_,x3_eval_td3,_,x1_ref_eval_td3,x3_ref_eval_td3,_ = test_agent(env_name,reward_type,reward_args,seed,agent_path,init_state,t_end,ep_len,x1_ref_seq,x3_ref_seq)\n",
    "_,_,x1_eval_lin,_,x3_eval_lin,_,x1_ref_eval_lin,x3_ref_eval_lin,_ = test_agent(env_name,reward_type,reward_args,seed,'linearized controller',init_state,t_end,ep_len,x1_ref_seq,x3_ref_seq)"
   ]
  },
  {
   "cell_type": "code",
   "execution_count": 5,
   "metadata": {},
   "outputs": [
    {
     "data": {
      "image/png": "[encoded data removed]",
      "text/plain": [
       "<Figure size 720x504 with 1 Axes>"
      ]
     },
     "metadata": {
      "needs_background": "light"
     },
     "output_type": "display_data"
    }
   ],
   "source": [
    "time = np.linspace(0, t_end, len(x1_eval_td3))\n",
    "\n",
    "plt.figure(figsize=(10,7))\n",
    "plt.title(r'',fontsize=20, y=1.05)\n",
    "plt.xlabel('Time [s]',fontsize=16)\n",
    "plt.ylabel('Angular position [°]',fontsize=16)\n",
    "plt.ylim([-100,100])\n",
    "plt.xlim([0,40])\n",
    "plt.grid()\n",
    "\n",
    "# RL Agent\n",
    "plt.plot(time,180*(x1_eval_td3)/np.pi,'r-',label=r'$\\theta$ RL')\n",
    "plt.plot(time,180*(x1_eval_lin)/np.pi,'r-', linestyle='dashed',label=r'$\\theta$ FL')\n",
    "\n",
    "# FL Agent\n",
    "plt.plot(time,180*(x3_eval_td3)/np.pi,'b-',label=r'$\\phi$ RL')\n",
    "plt.plot(time,180*(x3_eval_lin)/np.pi,'b-', linestyle='dashed',label=r'$\\phi$ FL')\n",
    "\n",
    "# Reference\n",
    "plt.plot(time, 180*x1_ref_eval_td3/np.pi, color='black',label=r'Reference on $\\theta$')\n",
    "\n",
    "plt.legend()\n",
    "plt.savefig('mtrack.pgf')"
   ]
  },
  {
   "cell_type": "markdown",
   "metadata": {},
   "source": [
    "#### Sine"
   ]
  },
  {
   "cell_type": "code",
   "execution_count": 2,
   "metadata": {},
   "outputs": [
    {
     "name": "stderr",
     "output_type": "stream",
     "text": [
      "/home/matthieulc/Documents/MA2/DRLGyro/resources/drlgyroenv/lib/python3.6/site-packages/gym/logger.py:30: UserWarning: \u001b[33mWARN: Box bound precision lowered by casting to float32\u001b[0m\n",
      "  warnings.warn(colorize('%s: %s'%('WARN', msg % args), 'yellow'))\n"
     ]
    },
    {
     "name": "stdout",
     "output_type": "stream",
     "text": [
      "Total cumulative reward: -475.00576004159535\n",
      "Total cumulative reward: -843.4965486904281\n"
     ]
    }
   ],
   "source": [
    "# Test paramaters\n",
    "env_name = 'gyroscopeenv-v0'\n",
    "reward_type = 'Normalized'\n",
    "reward_args = {'k': 0.05, 'qx2' : 0.05, 'qx4' : 0.05, 'pu1':0.05,'pu2':0.05}\n",
    "seed = 0\n",
    "agent_path = 'best_agent_robustified/'#'linearized controller'\n",
    "init_state = [0,0,0*np.pi/180,0,0,0,200*2*np.pi/60]\n",
    "ep_len = 800\n",
    "t_end = ep_len*0.05\n",
    "x1_ref_seq = np.full(800,0)+1*np.sin(2*np.pi*0.1*np.linspace(0,t_end,800))\n",
    "x3_ref_seq = np.append(np.full(100,0*np.pi/180),np.full(700,0*np.pi/180))\n",
    "\n",
    "# Perform testing\n",
    "_,_,x1_eval_td3,_,x3_eval_td3,_,x1_ref_eval_td3,x3_ref_eval_td3,_ = test_agent(env_name,reward_type,reward_args,seed,agent_path,init_state,t_end,ep_len,x1_ref_seq,x3_ref_seq)\n",
    "_,_,x1_eval_lin,_,x3_eval_lin,_,x1_ref_eval_lin,x3_ref_eval_lin,_ = test_agent(env_name,reward_type,reward_args,seed,'linearized controller',init_state,t_end,ep_len,x1_ref_seq,x3_ref_seq)"
   ]
  },
  {
   "cell_type": "code",
   "execution_count": 3,
   "metadata": {},
   "outputs": [
    {
     "data": {
      "image/png": "[encoded data removed]",
      "text/plain": [
       "<Figure size 720x504 with 1 Axes>"
      ]
     },
     "metadata": {
      "needs_background": "light"
     },
     "output_type": "display_data"
    }
   ],
   "source": [
    "time = np.linspace(0, t_end, len(x1_eval_td3))\n",
    "\n",
    "plt.figure(figsize=(10,7))\n",
    "plt.title(r'',fontsize=20, y=1.05)\n",
    "plt.xlabel('Time [s]',fontsize=16)\n",
    "plt.ylabel('Angular position [°]',fontsize=16)\n",
    "plt.ylim([-100,100])\n",
    "plt.xlim([0,40])\n",
    "plt.grid()\n",
    "\n",
    "# RL Agent\n",
    "plt.plot(time,180*(x1_eval_td3)/np.pi,'r-',label=r'$\\theta$ RL')\n",
    "plt.plot(time,180*(x1_eval_lin)/np.pi,'r-', linestyle='dashed',label=r'$\\theta$ FL')\n",
    "\n",
    "# FL Agent\n",
    "plt.plot(time,180*(x3_eval_td3)/np.pi,'b-',label=r'$\\phi$ RL')\n",
    "plt.plot(time,180*(x3_eval_lin)/np.pi,'b-', linestyle='dashed',label=r'$\\phi$ FL')\n",
    "\n",
    "# Reference\n",
    "plt.plot(time, 180*x1_ref_eval_td3/np.pi, color='black',label=r'Reference on $\\theta$')\n",
    "\n",
    "plt.legend()\n",
    "plt.savefig('sinetrack.pgf')"
   ]
  },
  {
   "cell_type": "markdown",
   "metadata": {},
   "source": [
    "#### Comparing reward relative importance with reward function"
   ]
  },
  {
   "cell_type": "code",
   "execution_count": 12,
   "metadata": {},
   "outputs": [],
   "source": [
    "gamma = 0.995\n",
    "gamma_pow = [gamma**t for t in range(ep_len)]"
   ]
  },
  {
   "cell_type": "code",
   "execution_count": 13,
   "metadata": {},
   "outputs": [
    {
     "name": "stderr",
     "output_type": "stream",
     "text": [
      "/home/matthieulc/Documents/MA2/DRLGyro/resources/drlgyroenv/lib/python3.6/site-packages/torch/serialization.py:493: SourceChangeWarning: source code of class 'torch.nn.modules.container.Sequential' has changed. you can retrieve the original source code by accessing the object's source attribute or set `torch.nn.Module.dump_patches = True` and use the patch tool to revert the changes.\n",
      "  warnings.warn(msg, SourceChangeWarning)\n"
     ]
    },
    {
     "name": "stdout",
     "output_type": "stream",
     "text": [
      "Total cumulative reward: -113.85846200337872\n",
      "Total cumulative reward: -437.64686275679753\n",
      "Total cumulative reward: -128.41019421483682\n"
     ]
    }
   ],
   "source": [
    "# Test paramaters\n",
    "env_name = 'gyroscopeenv-v0'\n",
    "seed = 0\n",
    "agent_path = 'ddpg_n'\n",
    "init_state = [0,0,20*np.pi/180,0,0,0,200*2*np.pi/60]\n",
    "ep_len = 300\n",
    "t_end = ep_len*0.05\n",
    "x1_ref_seq = np.append(np.full(100,60*np.pi/180),np.full(200,60*np.pi/180))\n",
    "x3_ref_seq = np.append(np.full(100,20*np.pi/180),np.full(200,20*np.pi/180))\n",
    "\n",
    "# Perform testing\n",
    "reward_type = 'Normalized'\n",
    "reward_args = {'k': 0.25, 'qx2' : 0.05, 'qx4' : 0.05, 'pu1':0.05,'pu2':0.05}\n",
    "r_n,_,x1_eval,_,x3_eval,_,x1_ref_eval,x3_ref_eval,_ = test_agent(env_name,reward_type,reward_args,seed,agent_path,init_state,t_end,ep_len,x1_ref_seq,x3_ref_seq)\n",
    "\n",
    "reward_type = 'Absolute'\n",
    "reward_args = {'qx1':9,'qx2':0.05,'qx3':9,'qx4':0.05,'pu1':0.5,'pu2':0.5}\n",
    "r_a,_,x1_eval,_,x3_eval,_,x1_ref_eval,x3_ref_eval,_ = test_agent(env_name,reward_type,reward_args,seed,agent_path,init_state,t_end,ep_len,x1_ref_seq,x3_ref_seq)\n",
    "\n",
    "reward_type = 'Quadratic'\n",
    "reward_args = {'qx1':9,'qx2':0.05,'qx3':9,'qx4':0.05,'pu1':0.1,'pu2':0.1}\n",
    "r_q,_,x1_eval,_,x3_eval,_,x1_ref_eval,x3_ref_eval,_ = test_agent(env_name,reward_type,reward_args,seed,agent_path,init_state,t_end,ep_len,x1_ref_seq,x3_ref_seq)\n",
    "\n",
    "\n",
    "# Calculate relative importance\n",
    "r_n_c = [0]\n",
    "for t in range(ep_len):\n",
    "    r_n_c.append(r_n_c[-1]+r_n[t]*gamma**t)\n",
    "\n",
    "r_a_c = [0]\n",
    "for t in range(ep_len):\n",
    "    r_a_c.append(r_a_c[-1]+r_a[t]*gamma**t)\n",
    "\n",
    "r_q_c = [0]\n",
    "for t in range(ep_len):\n",
    "    r_q_c.append(r_q_c[-1]+r_q[t]*gamma**t)"
   ]
  },
  {
   "cell_type": "code",
   "execution_count": 14,
   "metadata": {},
   "outputs": [],
   "source": [
    "time = np.linspace(0, t_end, len(r_n))\n",
    "\n",
    "plt.figure(figsize=(10,7))\n",
    "plt.title(r'',fontsize=20, y=1.05)\n",
    "plt.xlabel('Time [s]',fontsize=16)\n",
    "plt.ylabel(r'Normalized $R^{\\gamma}(t)$ [-]',fontsize=16)\n",
    "plt.ylim([0,1])\n",
    "plt.xlim([0,15])\n",
    "plt.grid()\n",
    "\n",
    "# RL Agent\n",
    "plt.plot(time,r_q_c[1:]/r_q_c[-1],'g',label='Q')\n",
    "plt.plot(time,r_a_c[1:]/r_a_c[-1],'b',label='A')\n",
    "plt.plot(time,r_n_c[1:]/r_n_c[-1],'r',label='N')\n",
    "\n",
    "plt.legend()\n",
    "plt.savefig('cumrew.pgf')"
   ]
  },
  {
   "cell_type": "markdown",
   "metadata": {},
   "source": [
    "#### Simulation verification "
   ]
  },
  {
   "cell_type": "code",
   "execution_count": 3,
   "metadata": {},
   "outputs": [],
   "source": [
    "import matplotlib as matplt\n",
    "matplt.use(\"pgf\")\n",
    "matplt.rcParams.update({\n",
    "    \"pgf.texsystem\": \"pdflatex\",\n",
    "    'font.family': 'serif',\n",
    "    'text.usetex': True,\n",
    "    'pgf.rcfonts': False,})"
   ]
  },
  {
   "cell_type": "code",
   "execution_count": 8,
   "metadata": {},
   "outputs": [],
   "source": [
    "Jbx1 = 0.0019\n",
    "Jbx2 = 0.0008\n",
    "Jbx3 = 0.0012\n",
    "Jrx1 = 0.0179\n",
    "Jdx1 = 0.0028\n",
    "Jdx3 = 0.0056\n",
    "param =  {'Jbx1':Jbx1,'Jbx2':Jbx2,'Jbx3':Jbx3,'Jrx1':Jrx1,'Jdx1':Jdx1,'Jdx3':Jdx3,'fvr':0.0027,'fcr':0.00,'fvb':0.0053,'fcb':0.00}"
   ]
  },
  {
   "cell_type": "code",
   "execution_count": 9,
   "metadata": {},
   "outputs": [
    {
     "name": "stderr",
     "output_type": "stream",
     "text": [
      "/home/matthieulc/Documents/MA2/DRLGyro/resources/drlgyroenv/lib/python3.6/site-packages/gym/logger.py:30: UserWarning: \u001b[33mWARN: Box bound precision lowered by casting to float32\u001b[0m\n",
      "  warnings.warn(colorize('%s: %s'%('WARN', msg % args), 'yellow'))\n"
     ]
    },
    {
     "name": "stdout",
     "output_type": "stream",
     "text": [
      "Total cumulative reward: -60.42749018105996\n"
     ]
    }
   ],
   "source": [
    "# Test paramaters\n",
    "env_name = 'gyroscoperobustenv-v0'\n",
    "reward_type = 'Normalized'\n",
    "reward_args = {'k': 0.05, 'qx2' : 0.05, 'qx4' : 0.05, 'pu1':0.05,'pu2':0.05}\n",
    "seed = 0\n",
    "init_state = [0,0,0*np.pi/180,0,45*np.pi/180,-60*np.pi/180,300*2*np.pi/60]\n",
    "ep_len = 400\n",
    "t_end = ep_len*0.05\n",
    "x1_ref_seq = np.append(np.full(100,0),np.full(300,45*np.pi/180))\n",
    "x3_ref_seq = np.append(np.full(100,0),np.full(300,-60*np.pi/180))\n",
    "\n",
    "# Perform testing\n",
    "_,_,x1_eval_lin,x2_eval_lin,x3_eval_lin,x4_eval_lin,x1_ref_eval_lin,x3_ref_eval_lin,_ = test_agent(env_name,reward_type,reward_args,seed,'linearized controller',init_state,t_end,ep_len,x1_ref_seq,x3_ref_seq,param=param, is_noise=False)"
   ]
  },
  {
   "cell_type": "code",
   "execution_count": 10,
   "metadata": {},
   "outputs": [],
   "source": [
    "time = np.linspace(0, t_end, len(x1_eval_lin))\n",
    "\n",
    "plt.figure(figsize=(10,7))\n",
    "plt.title(r'',fontsize=20, y=1.05)\n",
    "plt.xlabel('Time [s]',fontsize=16)\n",
    "plt.ylabel('Angular position [°]',fontsize=16)\n",
    "plt.ylim([-80,100])\n",
    "plt.xlim([0,20])\n",
    "plt.grid()\n",
    "\n",
    "# RL Agent\n",
    "plt.plot(time,180*(x1_eval_lin)/np.pi,'r-',label=r'$\\theta$')\n",
    "\n",
    "# FL Agent\n",
    "plt.plot(time,180*(x3_eval_lin)/np.pi,'b-',label=r'$\\phi$')\n",
    "\n",
    "# Reference\n",
    "plt.plot(time, 180*x1_ref_eval_lin/np.pi, color='black',label=r'Reference on $\\theta$')\n",
    "plt.plot(time, 180*x3_ref_eval_lin/np.pi, color='black',label=r'Reference on $\\phi$',linestyle='dashed')\n",
    "\n",
    "plt.legend()\n",
    "plt.savefig('validang.pgf')"
   ]
  },
  {
   "cell_type": "code",
   "execution_count": 11,
   "metadata": {},
   "outputs": [],
   "source": [
    "time = np.linspace(0, t_end, len(x1_eval_lin))\n",
    "\n",
    "plt.figure(figsize=(10,7))\n",
    "plt.title(r'',fontsize=20, y=1.05)\n",
    "plt.xlabel('Time [s]',fontsize=16)\n",
    "plt.ylabel('Velocity [RPM]',fontsize=16)\n",
    "plt.ylim([-15,15])\n",
    "plt.xlim([0,20])\n",
    "plt.grid()\n",
    "\n",
    "# RL Agent\n",
    "plt.plot(time,60*(x2_eval_lin)/(2*np.pi),'r-',label=r'$\\dot{\\theta}$')\n",
    "\n",
    "# FL Agent\n",
    "plt.plot(time,60*(x4_eval_lin)/(2*np.pi),'b-',label=r'$\\dot{\\phi}$')\n",
    "\n",
    "\n",
    "plt.legend()\n",
    "plt.savefig('validvel.pgf')"
   ]
  },
  {
   "cell_type": "markdown",
   "metadata": {},
   "source": [
    "#### Metrics"
   ]
  },
  {
   "cell_type": "code",
   "execution_count": 4,
   "metadata": {},
   "outputs": [
    {
     "name": "stderr",
     "output_type": "stream",
     "text": [
      "/home/matthieulc/Documents/MA2/DRLGyro/resources/drlgyroenv/lib/python3.6/site-packages/gym/logger.py:30: UserWarning: \u001b[33mWARN: Box bound precision lowered by casting to float32\u001b[0m\n",
      "  warnings.warn(colorize('%s: %s'%('WARN', msg % args), 'yellow'))\n"
     ]
    }
   ],
   "source": [
    "# Init dataframe\n",
    "env_name = 'gyroscopeenv-v0'\n",
    "agent_paths = ['td3_n_it2_an_var1_extralay_extralay_s0/','linearized controller']\n",
    "ss_bound = 0.05\n",
    "\n",
    "# Loop dataframe\n",
    "for idx, agent_path in zip(range(len(agent_paths)),agent_paths):\n",
    "    if idx == 0:\n",
    "        metrics = evaluate_control(env_name,agent_path,ss_bound)\n",
    "    else:\n",
    "        new_metrics = evaluate_control(env_name,agent_path,ss_bound)\n",
    "        metrics = metrics.append(new_metrics)"
   ]
  },
  {
   "cell_type": "code",
   "execution_count": 5,
   "metadata": {},
   "outputs": [
    {
     "data": {
      "text/html": [
       "<div>\n",
       "<style scoped>\n",
       "    .dataframe tbody tr th:only-of-type {\n",
       "        vertical-align: middle;\n",
       "    }\n",
       "\n",
       "    .dataframe tbody tr th {\n",
       "        vertical-align: top;\n",
       "    }\n",
       "\n",
       "    .dataframe thead th {\n",
       "        text-align: right;\n",
       "    }\n",
       "</style>\n",
       "<table border=\"1\" class=\"dataframe\">\n",
       "  <thead>\n",
       "    <tr style=\"text-align: right;\">\n",
       "      <th>Config.</th>\n",
       "      <th>td3_n_it2_an_var1_extralay_extralay_s0/</th>\n",
       "      <th>linearized controller</th>\n",
       "    </tr>\n",
       "  </thead>\n",
       "  <tbody>\n",
       "    <tr>\n",
       "      <th>$\\theta$ MAE (rad)</th>\n",
       "      <td>0.1711</td>\n",
       "      <td>0.2434</td>\n",
       "    </tr>\n",
       "    <tr>\n",
       "      <th>$\\phi$ MAE (rad)</th>\n",
       "      <td>0.1606</td>\n",
       "      <td>0.2931</td>\n",
       "    </tr>\n",
       "    <tr>\n",
       "      <th>$\\theta$ MSSE (rad)</th>\n",
       "      <td>0.0080</td>\n",
       "      <td>0.0000</td>\n",
       "    </tr>\n",
       "    <tr>\n",
       "      <th>$\\phi$ MSSE (rad)</th>\n",
       "      <td>0.0132</td>\n",
       "      <td>0.0000</td>\n",
       "    </tr>\n",
       "    <tr>\n",
       "      <th>$\\theta$ in bounds (%)</th>\n",
       "      <td>100.0000</td>\n",
       "      <td>100.0000</td>\n",
       "    </tr>\n",
       "    <tr>\n",
       "      <th>$\\phi$ in bounds (%)</th>\n",
       "      <td>100.0000</td>\n",
       "      <td>100.0000</td>\n",
       "    </tr>\n",
       "    <tr>\n",
       "      <th>$\\theta$ unsteady (%)</th>\n",
       "      <td>0.0000</td>\n",
       "      <td>0.0000</td>\n",
       "    </tr>\n",
       "    <tr>\n",
       "      <th>$\\phi$ unsteady (%)</th>\n",
       "      <td>0.0000</td>\n",
       "      <td>0.0000</td>\n",
       "    </tr>\n",
       "    <tr>\n",
       "      <th>$\\theta$ rise time (s)</th>\n",
       "      <td>0.5926</td>\n",
       "      <td>1.0279</td>\n",
       "    </tr>\n",
       "    <tr>\n",
       "      <th>$\\phi$ rise time (s)</th>\n",
       "      <td>0.4537</td>\n",
       "      <td>0.9911</td>\n",
       "    </tr>\n",
       "    <tr>\n",
       "      <th>$\\theta$ settling time (s)</th>\n",
       "      <td>0.7915</td>\n",
       "      <td>1.7939</td>\n",
       "    </tr>\n",
       "    <tr>\n",
       "      <th>$\\phi$ settling time (s)</th>\n",
       "      <td>0.7339</td>\n",
       "      <td>1.8976</td>\n",
       "    </tr>\n",
       "    <tr>\n",
       "      <th>u1 (V)</th>\n",
       "      <td>0.8828</td>\n",
       "      <td>1.3224</td>\n",
       "    </tr>\n",
       "    <tr>\n",
       "      <th>u2 (V)</th>\n",
       "      <td>0.7271</td>\n",
       "      <td>1.0547</td>\n",
       "    </tr>\n",
       "    <tr>\n",
       "      <th>u1 variation (V)</th>\n",
       "      <td>0.0790</td>\n",
       "      <td>0.1181</td>\n",
       "    </tr>\n",
       "    <tr>\n",
       "      <th>u2 variation (V)</th>\n",
       "      <td>0.0861</td>\n",
       "      <td>0.0744</td>\n",
       "    </tr>\n",
       "    <tr>\n",
       "      <th>Convergence time (min)</th>\n",
       "      <td>0.0000</td>\n",
       "      <td>0.0000</td>\n",
       "    </tr>\n",
       "  </tbody>\n",
       "</table>\n",
       "</div>"
      ],
      "text/plain": [
       "Config.                     td3_n_it2_an_var1_extralay_extralay_s0/  \\\n",
       "$\\theta$ MAE (rad)                                           0.1711   \n",
       "$\\phi$ MAE (rad)                                             0.1606   \n",
       "$\\theta$ MSSE (rad)                                          0.0080   \n",
       "$\\phi$ MSSE (rad)                                            0.0132   \n",
       "$\\theta$ in bounds (%)                                     100.0000   \n",
       "$\\phi$ in bounds (%)                                       100.0000   \n",
       "$\\theta$ unsteady (%)                                        0.0000   \n",
       "$\\phi$ unsteady (%)                                          0.0000   \n",
       "$\\theta$ rise time (s)                                       0.5926   \n",
       "$\\phi$ rise time (s)                                         0.4537   \n",
       "$\\theta$ settling time (s)                                   0.7915   \n",
       "$\\phi$ settling time (s)                                     0.7339   \n",
       "u1 (V)                                                       0.8828   \n",
       "u2 (V)                                                       0.7271   \n",
       "u1 variation (V)                                             0.0790   \n",
       "u2 variation (V)                                             0.0861   \n",
       "Convergence time (min)                                       0.0000   \n",
       "\n",
       "Config.                     linearized controller  \n",
       "$\\theta$ MAE (rad)                         0.2434  \n",
       "$\\phi$ MAE (rad)                           0.2931  \n",
       "$\\theta$ MSSE (rad)                        0.0000  \n",
       "$\\phi$ MSSE (rad)                          0.0000  \n",
       "$\\theta$ in bounds (%)                   100.0000  \n",
       "$\\phi$ in bounds (%)                     100.0000  \n",
       "$\\theta$ unsteady (%)                      0.0000  \n",
       "$\\phi$ unsteady (%)                        0.0000  \n",
       "$\\theta$ rise time (s)                     1.0279  \n",
       "$\\phi$ rise time (s)                       0.9911  \n",
       "$\\theta$ settling time (s)                 1.7939  \n",
       "$\\phi$ settling time (s)                   1.8976  \n",
       "u1 (V)                                     1.3224  \n",
       "u2 (V)                                     1.0547  \n",
       "u1 variation (V)                           0.1181  \n",
       "u2 variation (V)                           0.0744  \n",
       "Convergence time (min)                     0.0000  "
      ]
     },
     "execution_count": 5,
     "metadata": {},
     "output_type": "execute_result"
    }
   ],
   "source": [
    "metrics_man = metrics.transpose()\n",
    "metrics_man = metrics_man.round(4)\n",
    "metrics_man"
   ]
  },
  {
   "cell_type": "code",
   "execution_count": 6,
   "metadata": {},
   "outputs": [
    {
     "name": "stdout",
     "output_type": "stream",
     "text": [
      "\\begin{tabular}{lrr}\n",
      "\\toprule\n",
      "Config. &  td3_n_it2_an_var1_extralay_extralay_s0/ &  linearized controller \\\\\n",
      "\\midrule\n",
      "$\\theta$ MAE (rad)         &                                   0.1711 &                 0.2434 \\\\\n",
      "$\\phi$ MAE (rad)           &                                   0.1606 &                 0.2931 \\\\\n",
      "$\\theta$ MSSE (rad)        &                                   0.0080 &                 0.0000 \\\\\n",
      "$\\phi$ MSSE (rad)          &                                   0.0132 &                 0.0000 \\\\\n",
      "$\\theta$ in bounds (%)     &                                 100.0000 &               100.0000 \\\\\n",
      "$\\phi$ in bounds (%)       &                                 100.0000 &               100.0000 \\\\\n",
      "$\\theta$ unsteady (%)      &                                   0.0000 &                 0.0000 \\\\\n",
      "$\\phi$ unsteady (%)        &                                   0.0000 &                 0.0000 \\\\\n",
      "$\\theta$ rise time (s)     &                                   0.5926 &                 1.0279 \\\\\n",
      "$\\phi$ rise time (s)       &                                   0.4537 &                 0.9911 \\\\\n",
      "$\\theta$ settling time (s) &                                   0.7915 &                 1.7939 \\\\\n",
      "$\\phi$ settling time (s)   &                                   0.7339 &                 1.8976 \\\\\n",
      "u1 (V)                     &                                   0.8828 &                 1.3224 \\\\\n",
      "u2 (V)                     &                                   0.7271 &                 1.0547 \\\\\n",
      "u1 variation (V)           &                                   0.0790 &                 0.1181 \\\\\n",
      "u2 variation (V)           &                                   0.0861 &                 0.0744 \\\\\n",
      "Convergence time (min)     &                                   0.0000 &                 0.0000 \\\\\n",
      "\\bottomrule\n",
      "\\end{tabular}\n",
      "\n"
     ]
    }
   ],
   "source": [
    "# To LaTex\n",
    "print(metrics_man.to_latex(escape=False))"
   ]
  },
  {
   "cell_type": "code",
   "execution_count": null,
   "metadata": {},
   "outputs": [],
   "source": []
  }
 ],
 "metadata": {
  "accelerator": "GPU",
  "colab": {
   "collapsed_sections": [],
   "name": "gyroscope_ddpg_testing.ipynb",
   "provenance": []
  },
  "kernelspec": {
   "display_name": "Python 3",
   "language": "python",
   "name": "python3"
  },
  "language_info": {
   "codemirror_mode": {
    "name": "ipython",
    "version": 3
   },
   "file_extension": ".py",
   "mimetype": "text/x-python",
   "name": "python",
   "nbconvert_exporter": "python",
   "pygments_lexer": "ipython3",
   "version": "3.7.9"
  }
 },
 "nbformat": 4,
 "nbformat_minor": 4
}
