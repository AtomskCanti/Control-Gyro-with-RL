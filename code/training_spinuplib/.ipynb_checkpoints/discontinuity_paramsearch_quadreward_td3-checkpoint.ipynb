{
 "cells": [
  {
   "cell_type": "markdown",
   "metadata": {
    "colab_type": "text",
    "id": "x83dMPapQBN6"
   },
   "source": [
    "# TD3 hyperparameter search with quadratic reward with discontinuous state space(spinup library)"
   ]
  },
  {
   "cell_type": "code",
   "execution_count": 1,
   "metadata": {
    "colab": {},
    "colab_type": "code",
    "id": "fuJhdd479TpP"
   },
   "outputs": [
    {
     "name": "stderr",
     "output_type": "stream",
     "text": [
      "/home/matthieulc/.local/lib/python3.6/site-packages/tensorflow/python/framework/dtypes.py:516: FutureWarning: Passing (type, 1) or '1type' as a synonym of type is deprecated; in a future version of numpy, it will be understood as (type, (1,)) / '(1,)type'.\n",
      "  _np_qint8 = np.dtype([(\"qint8\", np.int8, 1)])\n",
      "/home/matthieulc/.local/lib/python3.6/site-packages/tensorflow/python/framework/dtypes.py:517: FutureWarning: Passing (type, 1) or '1type' as a synonym of type is deprecated; in a future version of numpy, it will be understood as (type, (1,)) / '(1,)type'.\n",
      "  _np_quint8 = np.dtype([(\"quint8\", np.uint8, 1)])\n",
      "/home/matthieulc/.local/lib/python3.6/site-packages/tensorflow/python/framework/dtypes.py:518: FutureWarning: Passing (type, 1) or '1type' as a synonym of type is deprecated; in a future version of numpy, it will be understood as (type, (1,)) / '(1,)type'.\n",
      "  _np_qint16 = np.dtype([(\"qint16\", np.int16, 1)])\n",
      "/home/matthieulc/.local/lib/python3.6/site-packages/tensorflow/python/framework/dtypes.py:519: FutureWarning: Passing (type, 1) or '1type' as a synonym of type is deprecated; in a future version of numpy, it will be understood as (type, (1,)) / '(1,)type'.\n",
      "  _np_quint16 = np.dtype([(\"quint16\", np.uint16, 1)])\n",
      "/home/matthieulc/.local/lib/python3.6/site-packages/tensorflow/python/framework/dtypes.py:520: FutureWarning: Passing (type, 1) or '1type' as a synonym of type is deprecated; in a future version of numpy, it will be understood as (type, (1,)) / '(1,)type'.\n",
      "  _np_qint32 = np.dtype([(\"qint32\", np.int32, 1)])\n",
      "/home/matthieulc/.local/lib/python3.6/site-packages/tensorflow/python/framework/dtypes.py:525: FutureWarning: Passing (type, 1) or '1type' as a synonym of type is deprecated; in a future version of numpy, it will be understood as (type, (1,)) / '(1,)type'.\n",
      "  np_resource = np.dtype([(\"resource\", np.ubyte, 1)])\n",
      "/home/matthieulc/.local/lib/python3.6/site-packages/tensorboard/compat/tensorflow_stub/dtypes.py:541: FutureWarning: Passing (type, 1) or '1type' as a synonym of type is deprecated; in a future version of numpy, it will be understood as (type, (1,)) / '(1,)type'.\n",
      "  _np_qint8 = np.dtype([(\"qint8\", np.int8, 1)])\n",
      "/home/matthieulc/.local/lib/python3.6/site-packages/tensorboard/compat/tensorflow_stub/dtypes.py:542: FutureWarning: Passing (type, 1) or '1type' as a synonym of type is deprecated; in a future version of numpy, it will be understood as (type, (1,)) / '(1,)type'.\n",
      "  _np_quint8 = np.dtype([(\"quint8\", np.uint8, 1)])\n",
      "/home/matthieulc/.local/lib/python3.6/site-packages/tensorboard/compat/tensorflow_stub/dtypes.py:543: FutureWarning: Passing (type, 1) or '1type' as a synonym of type is deprecated; in a future version of numpy, it will be understood as (type, (1,)) / '(1,)type'.\n",
      "  _np_qint16 = np.dtype([(\"qint16\", np.int16, 1)])\n",
      "/home/matthieulc/.local/lib/python3.6/site-packages/tensorboard/compat/tensorflow_stub/dtypes.py:544: FutureWarning: Passing (type, 1) or '1type' as a synonym of type is deprecated; in a future version of numpy, it will be understood as (type, (1,)) / '(1,)type'.\n",
      "  _np_quint16 = np.dtype([(\"quint16\", np.uint16, 1)])\n",
      "/home/matthieulc/.local/lib/python3.6/site-packages/tensorboard/compat/tensorflow_stub/dtypes.py:545: FutureWarning: Passing (type, 1) or '1type' as a synonym of type is deprecated; in a future version of numpy, it will be understood as (type, (1,)) / '(1,)type'.\n",
      "  _np_qint32 = np.dtype([(\"qint32\", np.int32, 1)])\n",
      "/home/matthieulc/.local/lib/python3.6/site-packages/tensorboard/compat/tensorflow_stub/dtypes.py:550: FutureWarning: Passing (type, 1) or '1type' as a synonym of type is deprecated; in a future version of numpy, it will be understood as (type, (1,)) / '(1,)type'.\n",
      "  np_resource = np.dtype([(\"resource\", np.ubyte, 1)])\n"
     ]
    },
    {
     "data": {
      "text/html": [
       "<div id=\"glowscript\" class=\"glowscript\"></div>"
      ],
      "text/plain": [
       "<IPython.core.display.HTML object>"
      ]
     },
     "metadata": {},
     "output_type": "display_data"
    },
    {
     "data": {
      "application/javascript": [
       "if (typeof Jupyter !== \"undefined\") { window.__context = { glowscript_container: $(\"#glowscript\").removeAttr(\"id\")};}else{ element.textContent = ' ';}"
      ],
      "text/plain": [
       "<IPython.core.display.Javascript object>"
      ]
     },
     "metadata": {},
     "output_type": "display_data"
    }
   ],
   "source": [
    "import gym\n",
    "from gym import spaces\n",
    "from gym.utils import seeding\n",
    "from gym.envs.registration import register\n",
    "\n",
    "from spinup.utils.run_utils import ExperimentGrid\n",
    "from spinup import td3_pytorch\n",
    "\n",
    "import torch\n",
    "\n",
    "from custom_functions.custom_functions import env_fn \n",
    "from custom_functions.custom_functions import test_agent\n",
    "from custom_functions.custom_functions import plot_test\n",
    "\n",
    "from os import path\n",
    "from scipy.integrate import solve_ivp\n",
    "import random\n",
    "import numpy as np\n",
    "from collections import deque\n",
    "import matplotlib.pyplot as plt\n",
    "%matplotlib inline\n",
    "from vpython import *\n",
    "import argparse\n",
    "\n",
    "register(id='gyroscopediscontinuousenv-v0',entry_point='gym_GyroscopeEnv.envs:GyroscopeDiscontinuousEnv')"
   ]
  },
  {
   "cell_type": "markdown",
   "metadata": {
    "colab_type": "text",
    "id": "be0wYIeBQBOc"
   },
   "source": [
    "## Search"
   ]
  },
  {
   "cell_type": "code",
   "execution_count": 2,
   "metadata": {
    "colab": {
     "base_uri": "https://localhost:8080/",
     "height": 533
    },
    "colab_type": "code",
    "executionInfo": {
     "elapsed": 654004,
     "status": "error",
     "timestamp": 1584037207187,
     "user": {
      "displayName": "Matthieu Le Cauchois",
      "photoUrl": "https://lh3.googleusercontent.com/a-/AOh14GgY9gRlHHK-FHlINeRnTJw_wewJsr639GH8MAWl=s64",
      "userId": "10992927378504656501"
     },
     "user_tz": -60
    },
    "id": "fLyFHs0yQBOd",
    "outputId": "260489ff-5e40-416a-e529-5a0cfcaefceb"
   },
   "outputs": [
    {
     "name": "stderr",
     "output_type": "stream",
     "text": [
      "\r",
      "Launching in...:                                                       | ? 00:00"
     ]
    },
    {
     "name": "stdout",
     "output_type": "stream",
     "text": [
      "================================================================================\n",
      "\u001b[32;1mExperimentGrid [grid search td3 for gyro] runs over parameters:\n",
      "\u001b[0m\n",
      " \u001b[36;1menv_name                                \u001b[0m [] \n",
      "\n",
      "\tgyroscopediscontinuousenv-v0\n",
      "\n",
      " \u001b[36;1mseed                                    \u001b[0m [see] \n",
      "\n",
      "\t0\n",
      "\t10\n",
      "\n",
      " \u001b[36;1mepochs                                  \u001b[0m [epo] \n",
      "\n",
      "\t35\n",
      "\n",
      " \u001b[36;1msteps_per_epoch                         \u001b[0m [ste] \n",
      "\n",
      "\t1650\n",
      "\n",
      " \u001b[36;1mreplay_size                             \u001b[0m [rep] \n",
      "\n",
      "\t1000000\n",
      "\n",
      " \u001b[36;1mgamma                                   \u001b[0m [gam] \n",
      "\n",
      "\t0.95\n",
      "\t0.99\n",
      "\n",
      " \u001b[36;1mpolyak                                  \u001b[0m [pol] \n",
      "\n",
      "\t0.995\n",
      "\t0.999\n",
      "\n",
      " \u001b[36;1mbatch_size                              \u001b[0m [bat] \n",
      "\n",
      "\t100\n",
      "\t150\n",
      "\n",
      " \u001b[36;1mstart_steps                             \u001b[0m [sta] \n",
      "\n",
      "\t10000\n",
      "\n",
      " \u001b[36;1mmax_ep_len                              \u001b[0m [max] \n",
      "\n",
      "\t110\n",
      "\n",
      " \u001b[36;1mact_noise                               \u001b[0m [act] \n",
      "\n",
      "\t0.1\n",
      "\n",
      " \u001b[36;1mpi_lr                                   \u001b[0m [pi] \n",
      "\n",
      "\t0.001\n",
      "\n",
      " \u001b[36;1mq_lr                                    \u001b[0m [ql] \n",
      "\n",
      "\t0.001\n",
      "\n",
      " \u001b[36;1mpolicy_delay                            \u001b[0m [pol] \n",
      "\n",
      "\t2\n",
      "\n",
      " \u001b[36;1mtarget_noise                            \u001b[0m [tar] \n",
      "\n",
      "\t0.2\n",
      "\n",
      " \u001b[36;1mnoise_clip                              \u001b[0m [noi] \n",
      "\n",
      "\t0.5\n",
      "\t0.7\n",
      "\n",
      " \u001b[36;1mac_kwargs:hidden_sizes                  \u001b[0m [hid] \n",
      "\n",
      "\t(300,)\n",
      "\t(300, 300)\n",
      "\n",
      " \u001b[36;1mac_kwargs:activation                    \u001b[0m [act] \n",
      "\n",
      "\tReLU\n",
      "\n",
      " Variants, counting seeds:               64\n",
      " Variants, not counting seeds:           32\n",
      "\n",
      "================================================================================\n",
      "\n",
      "\u001b[32;1mPreparing to run the following experiments...\u001b[0m\n",
      "\n",
      "grid search td3 for gyro_gyroscopediscontinuousenv-v0_gam0-95_pol0-995_bat100_noi0-5_hid300\n",
      "grid search td3 for gyro_gyroscopediscontinuousenv-v0_gam0-95_pol0-995_bat100_noi0-5_hid300-300\n",
      "grid search td3 for gyro_gyroscopediscontinuousenv-v0_gam0-95_pol0-995_bat100_noi0-7_hid300\n",
      "grid search td3 for gyro_gyroscopediscontinuousenv-v0_gam0-95_pol0-995_bat100_noi0-7_hid300-300\n",
      "grid search td3 for gyro_gyroscopediscontinuousenv-v0_gam0-95_pol0-995_bat150_noi0-5_hid300\n",
      "grid search td3 for gyro_gyroscopediscontinuousenv-v0_gam0-95_pol0-995_bat150_noi0-5_hid300-300\n",
      "grid search td3 for gyro_gyroscopediscontinuousenv-v0_gam0-95_pol0-995_bat150_noi0-7_hid300\n",
      "grid search td3 for gyro_gyroscopediscontinuousenv-v0_gam0-95_pol0-995_bat150_noi0-7_hid300-300\n",
      "grid search td3 for gyro_gyroscopediscontinuousenv-v0_gam0-95_pol0-999_bat100_noi0-5_hid300\n",
      "grid search td3 for gyro_gyroscopediscontinuousenv-v0_gam0-95_pol0-999_bat100_noi0-5_hid300-300\n",
      "grid search td3 for gyro_gyroscopediscontinuousenv-v0_gam0-95_pol0-999_bat100_noi0-7_hid300\n",
      "grid search td3 for gyro_gyroscopediscontinuousenv-v0_gam0-95_pol0-999_bat100_noi0-7_hid300-300\n",
      "grid search td3 for gyro_gyroscopediscontinuousenv-v0_gam0-95_pol0-999_bat150_noi0-5_hid300\n",
      "grid search td3 for gyro_gyroscopediscontinuousenv-v0_gam0-95_pol0-999_bat150_noi0-5_hid300-300\n",
      "grid search td3 for gyro_gyroscopediscontinuousenv-v0_gam0-95_pol0-999_bat150_noi0-7_hid300\n",
      "grid search td3 for gyro_gyroscopediscontinuousenv-v0_gam0-95_pol0-999_bat150_noi0-7_hid300-300\n",
      "grid search td3 for gyro_gyroscopediscontinuousenv-v0_gam0-99_pol0-995_bat100_noi0-5_hid300\n",
      "grid search td3 for gyro_gyroscopediscontinuousenv-v0_gam0-99_pol0-995_bat100_noi0-5_hid300-300\n",
      "grid search td3 for gyro_gyroscopediscontinuousenv-v0_gam0-99_pol0-995_bat100_noi0-7_hid300\n",
      "grid search td3 for gyro_gyroscopediscontinuousenv-v0_gam0-99_pol0-995_bat100_noi0-7_hid300-300\n",
      "grid search td3 for gyro_gyroscopediscontinuousenv-v0_gam0-99_pol0-995_bat150_noi0-5_hid300\n",
      "grid search td3 for gyro_gyroscopediscontinuousenv-v0_gam0-99_pol0-995_bat150_noi0-5_hid300-300\n",
      "grid search td3 for gyro_gyroscopediscontinuousenv-v0_gam0-99_pol0-995_bat150_noi0-7_hid300\n",
      "grid search td3 for gyro_gyroscopediscontinuousenv-v0_gam0-99_pol0-995_bat150_noi0-7_hid300-300\n",
      "grid search td3 for gyro_gyroscopediscontinuousenv-v0_gam0-99_pol0-999_bat100_noi0-5_hid300\n",
      "grid search td3 for gyro_gyroscopediscontinuousenv-v0_gam0-99_pol0-999_bat100_noi0-5_hid300-300\n",
      "grid search td3 for gyro_gyroscopediscontinuousenv-v0_gam0-99_pol0-999_bat100_noi0-7_hid300\n",
      "grid search td3 for gyro_gyroscopediscontinuousenv-v0_gam0-99_pol0-999_bat100_noi0-7_hid300-300\n",
      "grid search td3 for gyro_gyroscopediscontinuousenv-v0_gam0-99_pol0-999_bat150_noi0-5_hid300\n",
      "grid search td3 for gyro_gyroscopediscontinuousenv-v0_gam0-99_pol0-999_bat150_noi0-5_hid300-300\n",
      "grid search td3 for gyro_gyroscopediscontinuousenv-v0_gam0-99_pol0-999_bat150_noi0-7_hid300\n",
      "grid search td3 for gyro_gyroscopediscontinuousenv-v0_gam0-99_pol0-999_bat150_noi0-7_hid300-300\n",
      "\n",
      "================================================================================\n",
      "\u001b[36;1m\n",
      "Launch delayed to give you a few seconds to review your experiments.\n",
      "\n",
      "To customize or disable this behavior, change WAIT_BEFORE_LAUNCH in\n",
      "spinup/user_config.py.\n",
      "\n",
      "\u001b[0m================================================================================\n"
     ]
    },
    {
     "name": "stderr",
     "output_type": "stream",
     "text": [
      "                                                                                \r"
     ]
    },
    {
     "name": "stdout",
     "output_type": "stream",
     "text": [
      "\u001b[36;1mRunning experiment:\n",
      "\u001b[0m\n",
      "grid search td3 for gyro_gyroscopediscontinuousenv-v0_gam0-95_pol0-995_bat100_noi0-5_hid300\n",
      "\n",
      "\u001b[36;1mwith kwargs:\n",
      "\u001b[0m\n",
      "{\n",
      "    \"ac_kwargs\":\t{\n",
      "        \"activation\":\t\"ReLU\",\n",
      "        \"hidden_sizes\":\t[\n",
      "            300\n",
      "        ]\n",
      "    },\n",
      "    \"act_noise\":\t0.1,\n",
      "    \"batch_size\":\t100,\n",
      "    \"env_name\":\t\"gyroscopediscontinuousenv-v0\",\n",
      "    \"epochs\":\t35,\n",
      "    \"gamma\":\t0.95,\n",
      "    \"max_ep_len\":\t110,\n",
      "    \"noise_clip\":\t0.5,\n",
      "    \"pi_lr\":\t0.001,\n",
      "    \"policy_delay\":\t2,\n",
      "    \"polyak\":\t0.995,\n",
      "    \"q_lr\":\t0.001,\n",
      "    \"replay_size\":\t1000000,\n",
      "    \"seed\":\t0,\n",
      "    \"start_steps\":\t10000,\n",
      "    \"steps_per_epoch\":\t1650,\n",
      "    \"target_noise\":\t0.2\n",
      "}\n",
      "\n",
      "\n",
      "\n",
      "\n",
      "\n",
      "================================================================================\n",
      "\n",
      "\n",
      "There appears to have been an error in your experiment.\n",
      "\n",
      "Check the traceback above to see what actually went wrong. The \n",
      "traceback below, included for completeness (but probably not useful\n",
      "for diagnosing the error), shows the stack leading up to the \n",
      "experiment launch.\n",
      "\n",
      "================================================================================\n",
      "\n",
      "\n",
      "\n"
     ]
    },
    {
     "ename": "CalledProcessError",
     "evalue": "Command '['/usr/bin/python3', '/home/matthieulc/Documents/MA2/ps-drl-for-gyroscope-control/resources/spinningup/spinup/utils/run_entrypoint.py', 'eJy9VU9vG0UUn7Ud13XSJCISFSWHSD3gSHhtqHJASsufIJAwiVAACQmh0XhnvDvd2ZntzkxaIyEhlTauNOKSAQk4cuIj8BG4cumVTwDixoEDb9YmMRwQB8qsvDvz3rz3fu+vP2198Vsb1ctdTYSytORJLli8tPduHU+4EHhiZWK4kv7M9zLkNnBBcoZ1zuYsIAP1Ch5bLgyX2ExLBjTXOVCUvRcOD/yx741Q/TRHWwdv0GjWyNvVkDYoEugRnGj0DHqETtFpNGnQJm191gHayj4KnJvIRLPm/ShCs9YEKJ/DjqJ3ke8duQ6TJ1iSgvkRyi7/aaQBRrqz6DaaofsRXDx64F0roAYou+72IFMFGxTEmIwzK5LB6yqxBZNGDw5ffXFQ6j6tRH+iqn46rZROVMn6iZKmUmJQMa1slTA90CWXksvUlvUWPtZwoQeVlbjexeUUorAvSDGm5JYffXOAfLbqmum08A/9roGouL2EQITZvZJVPCCI94UCkr4Vm8zKHJfC6gvauS7XDn5PpDc+23KdouQY4OZBbbbpuheyfvTlwTpqdKLwPBW1m50mCOd3SZVq7y5JW+CktN6t1CL+FABmWw99wDZqfuJ7bhXjkiQ5SRnG3q3NPY1r/8A5XMc+cJ5e5sTnMajvQBXVd/7PwNtTcCE4cCkVagzRg0N27W8wQ9yMUsDMrp157TqUTYgVRvsj16I8MSDk1qEntK0YPiHCMu0/8j3QC4ncPgdJuQ4wQbOyGjLTPxmGFJUqySAD192GNqzUGJKMa6I/rNputWKlIFOs+cfMv/XKaxvIraSkKIh/8+WfJ/Vy7VKJKcmB8svj7s3y28euOyYmyeZCI+pWtSGVwbV+f7j5nOsW5B4YwYJJP5LuMkkMloprBjq+/yqsr90KuC0qILwzPvzx1+9+d607fz2vgVmeTDFlANCPGm4NrKTsQtMPC03dmoATwUug/rSYKGAUL0osZGAt45QyWWMGkM9H0I1dwMVPSD1W3LNGVUkWSxkXilrBdLzMbR2zt9+HgWJdSzNGodHdFaHSFIK5ZKSrrCmtwZRX/oPNCKH/vNYoMWSQVpzuaEYA746hN3ZAfifI43+qBQxpHfZf2sMQVvjCBpL4wnAYwjns72GIz43h8EnqxhoKsgNjZj4r3YdP0Ja3Fipme9FoRKQqNOQ8xWAq/LxrhveZZ649T7nPdl2rxpZtuyZVCXTgVbz0b4S1HS+qAzrQde5YIua+XP8XIxQKLr970dzWHMd/APIboNM=']' returned non-zero exit status 1.",
     "output_type": "error",
     "traceback": [
      "\u001b[0;31m---------------------------------------------------------------------------\u001b[0m",
      "\u001b[0;31mCalledProcessError\u001b[0m                        Traceback (most recent call last)",
      "\u001b[0;32m<ipython-input-2-df36e3c4a06d>\u001b[0m in \u001b[0;36m<module>\u001b[0;34m\u001b[0m\n\u001b[1;32m     33\u001b[0m \u001b[0;34m\u001b[0m\u001b[0m\n\u001b[1;32m     34\u001b[0m \u001b[0;31m# Run experiments\u001b[0m\u001b[0;34m\u001b[0m\u001b[0;34m\u001b[0m\u001b[0;34m\u001b[0m\u001b[0m\n\u001b[0;32m---> 35\u001b[0;31m \u001b[0meg\u001b[0m\u001b[0;34m.\u001b[0m\u001b[0mrun\u001b[0m\u001b[0;34m(\u001b[0m\u001b[0mtd3_pytorch\u001b[0m\u001b[0;34m,\u001b[0m \u001b[0mnum_cpu\u001b[0m\u001b[0;34m=\u001b[0m\u001b[0;34m'auto'\u001b[0m\u001b[0;34m)\u001b[0m\u001b[0;34m\u001b[0m\u001b[0;34m\u001b[0m\u001b[0m\n\u001b[0m",
      "\u001b[0;32m~/Documents/MA2/ps-drl-for-gyroscope-control/resources/spinningup/spinup/utils/run_utils.py\u001b[0m in \u001b[0;36mrun\u001b[0;34m(self, thunk, num_cpu, data_dir, datestamp)\u001b[0m\n\u001b[1;32m    548\u001b[0m                             \u001b[0mdata_dir\u001b[0m\u001b[0;34m=\u001b[0m\u001b[0mdata_dir\u001b[0m\u001b[0;34m,\u001b[0m\u001b[0;34m\u001b[0m\u001b[0;34m\u001b[0m\u001b[0m\n\u001b[1;32m    549\u001b[0m                             \u001b[0mdatestamp\u001b[0m\u001b[0;34m=\u001b[0m\u001b[0mdatestamp\u001b[0m\u001b[0;34m,\u001b[0m\u001b[0;34m\u001b[0m\u001b[0;34m\u001b[0m\u001b[0m\n\u001b[0;32m--> 550\u001b[0;31m                             **var)\n\u001b[0m\u001b[1;32m    551\u001b[0m \u001b[0;34m\u001b[0m\u001b[0m\n\u001b[1;32m    552\u001b[0m \u001b[0;34m\u001b[0m\u001b[0m\n",
      "\u001b[0;32m~/Documents/MA2/ps-drl-for-gyroscope-control/resources/spinningup/spinup/utils/run_utils.py\u001b[0m in \u001b[0;36mcall_experiment\u001b[0;34m(exp_name, thunk, seed, num_cpu, data_dir, datestamp, **kwargs)\u001b[0m\n\u001b[1;32m    169\u001b[0m     \u001b[0mcmd\u001b[0m \u001b[0;34m=\u001b[0m \u001b[0;34m[\u001b[0m\u001b[0msys\u001b[0m\u001b[0;34m.\u001b[0m\u001b[0mexecutable\u001b[0m \u001b[0;32mif\u001b[0m \u001b[0msys\u001b[0m\u001b[0;34m.\u001b[0m\u001b[0mexecutable\u001b[0m \u001b[0;32melse\u001b[0m \u001b[0;34m'python'\u001b[0m\u001b[0;34m,\u001b[0m \u001b[0mentrypoint\u001b[0m\u001b[0;34m,\u001b[0m \u001b[0mencoded_thunk\u001b[0m\u001b[0;34m]\u001b[0m\u001b[0;34m\u001b[0m\u001b[0;34m\u001b[0m\u001b[0m\n\u001b[1;32m    170\u001b[0m     \u001b[0;32mtry\u001b[0m\u001b[0;34m:\u001b[0m\u001b[0;34m\u001b[0m\u001b[0;34m\u001b[0m\u001b[0m\n\u001b[0;32m--> 171\u001b[0;31m         \u001b[0msubprocess\u001b[0m\u001b[0;34m.\u001b[0m\u001b[0mcheck_call\u001b[0m\u001b[0;34m(\u001b[0m\u001b[0mcmd\u001b[0m\u001b[0;34m,\u001b[0m \u001b[0menv\u001b[0m\u001b[0;34m=\u001b[0m\u001b[0mos\u001b[0m\u001b[0;34m.\u001b[0m\u001b[0menviron\u001b[0m\u001b[0;34m)\u001b[0m\u001b[0;34m\u001b[0m\u001b[0;34m\u001b[0m\u001b[0m\n\u001b[0m\u001b[1;32m    172\u001b[0m     \u001b[0;32mexcept\u001b[0m \u001b[0mCalledProcessError\u001b[0m\u001b[0;34m:\u001b[0m\u001b[0;34m\u001b[0m\u001b[0;34m\u001b[0m\u001b[0m\n\u001b[1;32m    173\u001b[0m         err_msg = '\\n'*3 + '='*DIV_LINE_WIDTH + '\\n' + dedent(\"\"\"\n",
      "\u001b[0;32m/usr/lib/python3.6/subprocess.py\u001b[0m in \u001b[0;36mcheck_call\u001b[0;34m(*popenargs, **kwargs)\u001b[0m\n\u001b[1;32m    309\u001b[0m         \u001b[0;32mif\u001b[0m \u001b[0mcmd\u001b[0m \u001b[0;32mis\u001b[0m \u001b[0;32mNone\u001b[0m\u001b[0;34m:\u001b[0m\u001b[0;34m\u001b[0m\u001b[0;34m\u001b[0m\u001b[0m\n\u001b[1;32m    310\u001b[0m             \u001b[0mcmd\u001b[0m \u001b[0;34m=\u001b[0m \u001b[0mpopenargs\u001b[0m\u001b[0;34m[\u001b[0m\u001b[0;36m0\u001b[0m\u001b[0;34m]\u001b[0m\u001b[0;34m\u001b[0m\u001b[0;34m\u001b[0m\u001b[0m\n\u001b[0;32m--> 311\u001b[0;31m         \u001b[0;32mraise\u001b[0m \u001b[0mCalledProcessError\u001b[0m\u001b[0;34m(\u001b[0m\u001b[0mretcode\u001b[0m\u001b[0;34m,\u001b[0m \u001b[0mcmd\u001b[0m\u001b[0;34m)\u001b[0m\u001b[0;34m\u001b[0m\u001b[0;34m\u001b[0m\u001b[0m\n\u001b[0m\u001b[1;32m    312\u001b[0m     \u001b[0;32mreturn\u001b[0m \u001b[0;36m0\u001b[0m\u001b[0;34m\u001b[0m\u001b[0;34m\u001b[0m\u001b[0m\n\u001b[1;32m    313\u001b[0m \u001b[0;34m\u001b[0m\u001b[0m\n",
      "\u001b[0;31mCalledProcessError\u001b[0m: Command '['/usr/bin/python3', '/home/matthieulc/Documents/MA2/ps-drl-for-gyroscope-control/resources/spinningup/spinup/utils/run_entrypoint.py', 'eJy9VU9vG0UUn7Ud13XSJCISFSWHSD3gSHhtqHJASsufIJAwiVAACQmh0XhnvDvd2ZntzkxaIyEhlTauNOKSAQk4cuIj8BG4cumVTwDixoEDb9YmMRwQB8qsvDvz3rz3fu+vP2198Vsb1ctdTYSytORJLli8tPduHU+4EHhiZWK4kv7M9zLkNnBBcoZ1zuYsIAP1Ch5bLgyX2ExLBjTXOVCUvRcOD/yx741Q/TRHWwdv0GjWyNvVkDYoEugRnGj0DHqETtFpNGnQJm191gHayj4KnJvIRLPm/ShCs9YEKJ/DjqJ3ke8duQ6TJ1iSgvkRyi7/aaQBRrqz6DaaofsRXDx64F0roAYou+72IFMFGxTEmIwzK5LB6yqxBZNGDw5ffXFQ6j6tRH+iqn46rZROVMn6iZKmUmJQMa1slTA90CWXksvUlvUWPtZwoQeVlbjexeUUorAvSDGm5JYffXOAfLbqmum08A/9roGouL2EQITZvZJVPCCI94UCkr4Vm8zKHJfC6gvauS7XDn5PpDc+23KdouQY4OZBbbbpuheyfvTlwTpqdKLwPBW1m50mCOd3SZVq7y5JW+CktN6t1CL+FABmWw99wDZqfuJ7bhXjkiQ5SRnG3q3NPY1r/8A5XMc+cJ5e5sTnMajvQBXVd/7PwNtTcCE4cCkVagzRg0N27W8wQ9yMUsDMrp157TqUTYgVRvsj16I8MSDk1qEntK0YPiHCMu0/8j3QC4ncPgdJuQ4wQbOyGjLTPxmGFJUqySAD192GNqzUGJKMa6I/rNputWKlIFOs+cfMv/XKaxvIraSkKIh/8+WfJ/Vy7VKJKcmB8svj7s3y28euOyYmyeZCI+pWtSGVwbV+f7j5nOsW5B4YwYJJP5LuMkkMloprBjq+/yqsr90KuC0qILwzPvzx1+9+d607fz2vgVmeTDFlANCPGm4NrKTsQtMPC03dmoATwUug/rSYKGAUL0osZGAt45QyWWMGkM9H0I1dwMVPSD1W3LNGVUkWSxkXilrBdLzMbR2zt9+HgWJdSzNGodHdFaHSFIK5ZKSrrCmtwZRX/oPNCKH/vNYoMWSQVpzuaEYA746hN3ZAfifI43+qBQxpHfZf2sMQVvjCBpL4wnAYwjns72GIz43h8EnqxhoKsgNjZj4r3YdP0Ja3Fipme9FoRKQqNOQ8xWAq/LxrhveZZ649T7nPdl2rxpZtuyZVCXTgVbz0b4S1HS+qAzrQde5YIua+XP8XIxQKLr970dzWHMd/APIboNM=']' returned non-zero exit status 1."
     ]
    }
   ],
   "source": [
    "# Setup experiment grid object\n",
    "num_seed = 2 # number of different seeds to test\n",
    "epochs = 35\n",
    "maxeplen = 110\n",
    "spe = maxeplen * 15\n",
    "repsize = 1000000\n",
    "actnoise = 0.1\n",
    "pilr = 0.001\n",
    "qlr = 0.001\n",
    "pd = 2\n",
    "targnoise = 0.2\n",
    "\n",
    "# Add parameter range\n",
    "eg = ExperimentGrid(name='grid search td3 for gyro')\n",
    "eg.add('env_fn', 'gyroscopediscontinuousenv-v0', '', True)\n",
    "eg.add('seed', [10*i for i in range(num_seed)])\n",
    "eg.add('epochs', epochs)\n",
    "eg.add('steps_per_epoch', spe)\n",
    "eg.add('replay_size',repsize)\n",
    "eg.add('gamma',[0.95,0.99])\n",
    "eg.add('polyak',[0.995, 0.999])\n",
    "eg.add('batch_size',[100,150])\n",
    "eg.add('start_steps',[10000])\n",
    "eg.add('max_ep_len',maxeplen)\n",
    "eg.add('act_noise',actnoise)\n",
    "eg.add('pi_lr',pilr)\n",
    "eg.add('q_lr',qlr)\n",
    "eg.add('policy_delay',pd)\n",
    "eg.add('target_noise',targnoise)\n",
    "eg.add('noise_clip',[0.5,0.7])\n",
    "eg.add('ac_kwargs:hidden_sizes', [(300,),(300,300)], 'hid')\n",
    "eg.add('ac_kwargs:activation', torch.nn.ReLU, 'act')\n",
    "\n",
    "# Run experiments\n",
    "eg.run(td3_pytorch, num_cpu='auto')"
   ]
  },
  {
   "cell_type": "markdown",
   "metadata": {
    "colab_type": "text",
    "id": "Gn3Gp40bcOVz"
   },
   "source": [
    "## Test"
   ]
  },
  {
   "cell_type": "code",
   "execution_count": null,
   "metadata": {
    "colab": {
     "base_uri": "https://localhost:8080/",
     "height": 106
    },
    "colab_type": "code",
    "executionInfo": {
     "elapsed": 972,
     "status": "ok",
     "timestamp": 1584036455886,
     "user": {
      "displayName": "Matthieu Le Cauchois",
      "photoUrl": "https://lh3.googleusercontent.com/a-/AOh14GgY9gRlHHK-FHlINeRnTJw_wewJsr639GH8MAWl=s64",
      "userId": "10992927378504656501"
     },
     "user_tz": -60
    },
    "id": "6GyY0wE-QBOj",
    "outputId": "9a5e9011-e024-4a65-8383-83c062cdcad9"
   },
   "outputs": [],
   "source": [
    "# Creat environment\n",
    "reward_args = {'qx1':9,'qx2':0.04,'qx3':9,'qx4':0.04,'pu1':0.01,'pu2':0.01}\n",
    "env_fn = partial(env_fn,env_name = 'gyroscopeenv-v0',reward_type = 'Quadratic', reward_args = reward_args)\n",
    "env = env_fn()\n",
    "env.seed(2)\n",
    "\n",
    "# Create agent\n",
    "agent = torch.load('/home/matthieulc/Documents/MA2/ps-drl-for-gyroscope-control/resources/spinningup/data/grid-search-v0/grid search td3 for gyro_gyroscopeenv-v0_gam0-95_pol0-995_bat100_noi0-5_hid300-300/grid search td3 for gyro_gyroscopeenv-v0_gam0-95_pol0-995_bat100_noi0-5_hid300-300_s0/pyt_save/model.pt')\n",
    "\n",
    "# Test parameters\n",
    "x1,x2,x3,x4,x1_ref,x3_ref,w = 0,1,0,1,1,3,25\n",
    "state = env.reset() # useless but needed before reseting to specfic state\n",
    "state = env.reset2state(np.array([x1,x2,x3,x4,x1_ref,x3_ref,w]))\n",
    "val = []\n",
    "act = []\n",
    "dt = 0.01\n",
    "time = np.arange(0, 4, dt)\n",
    "score = 0\n",
    "for i in range(len(time)):\n",
    "    val.append(state)\n",
    "    action = agent.act(torch.as_tensor(state, dtype=torch.float32))\n",
    "    act.append(action)\n",
    "    state, reward, done, _ = env.step(action)\n",
    "    score += reward\n",
    "    if done:\n",
    "        break \n",
    "\n",
    "env.close()\n",
    "print(score)"
   ]
  },
  {
   "cell_type": "markdown",
   "metadata": {
    "colab_type": "text",
    "id": "vvMjuRHDcfrE"
   },
   "source": [
    "## Plot"
   ]
  },
  {
   "cell_type": "code",
   "execution_count": null,
   "metadata": {
    "colab": {
     "base_uri": "https://localhost:8080/",
     "height": 1000
    },
    "colab_type": "code",
    "executionInfo": {
     "elapsed": 1856,
     "status": "ok",
     "timestamp": 1584036457424,
     "user": {
      "displayName": "Matthieu Le Cauchois",
      "photoUrl": "https://lh3.googleusercontent.com/a-/AOh14GgY9gRlHHK-FHlINeRnTJw_wewJsr639GH8MAWl=s64",
      "userId": "10992927378504656501"
     },
     "user_tz": -60
    },
    "id": "aCZCqujgcMVA",
    "outputId": "05490294-aab8-4933-ca9b-e13ba85ecf6d"
   },
   "outputs": [],
   "source": [
    "f, axs = plt.subplots(4,2,figsize=(30,30))\n",
    "plt.subplot(4,2,1)\n",
    "plt.title('Red gimbal angle',fontsize=20)\n",
    "plt.xlabel('time (s)',fontsize=16)\n",
    "plt.ylabel(r'$\\theta$ (rad)',fontsize=16)\n",
    "plt.grid()\n",
    "plt.plot(time,[row[0] for row in val],'r-')\n",
    "plt.plot(time, [row[4] for row in val], color='black', linestyle='dashed')\n",
    "\n",
    "plt.subplot(4,2,2)\n",
    "plt.title('Blue gimbal angle',fontsize=20)\n",
    "plt.xlabel('time (s)',fontsize=16)\n",
    "plt.ylabel(r'$\\phi$ (rad)',fontsize=16)\n",
    "plt.grid()\n",
    "plt.plot(time,[row[2] for row in val],'b-')\n",
    "plt.plot(time, [row[5] for row in val], color='black', linestyle='dashed')\n",
    "\n",
    "plt.subplot(4,2,3)\n",
    "plt.title('Red gimbal speed',fontsize=20)\n",
    "plt.xlabel('time (s)',fontsize=16)\n",
    "plt.ylabel(r'$\\dot \\theta$ (rad/s)',fontsize=16)\n",
    "plt.grid()\n",
    "plt.plot(time,[row[1] for row in val],'r-')\n",
    "\n",
    "plt.subplot(4,2,4)\n",
    "plt.title('Blue gimbal speed',fontsize=20)\n",
    "plt.xlabel('time (s)',fontsize=16)\n",
    "plt.ylabel(r'$\\dot \\phi$ (rad/s)',fontsize=16)\n",
    "plt.grid()\n",
    "plt.plot(time,[row[3] for row in val],'b-')\n",
    "\n",
    "plt.subplot(4,2,5)\n",
    "plt.title('Red gimbal tracking error',fontsize=20)\n",
    "plt.xlabel('time (s)',fontsize=16)\n",
    "plt.ylabel(r'$\\theta$ error (rad)',fontsize=16)\n",
    "plt.grid()\n",
    "plt.plot(time,[angle_normalize(row[0]- row[4]) for row in val],'r-')\n",
    "\n",
    "plt.subplot(4,2,6)\n",
    "plt.title('Blue gimbal tracking error',fontsize=20)\n",
    "plt.xlabel('time (s)',fontsize=16)\n",
    "plt.ylabel(r'$\\phi$ error (rad)',fontsize=16)\n",
    "plt.grid()\n",
    "plt.plot(time,[angle_normalize(row[2]- row[5]) for row in val],'b-')\n",
    "\n",
    "plt.subplot(4,2,7)\n",
    "plt.title('Red gimbal input',fontsize=20)\n",
    "plt.xlabel('time (s)',fontsize=16)\n",
    "plt.ylabel(r'u1 (V)',fontsize=16)\n",
    "plt.grid()\n",
    "plt.plot(time,[row[0] for row in act],'r-')\n",
    "\n",
    "plt.subplot(4,2,8)\n",
    "plt.title('Blue gimbal input',fontsize=20)\n",
    "plt.xlabel('time (s)',fontsize=16)\n",
    "plt.ylabel(r'u2 (V)',fontsize=16)\n",
    "plt.grid()\n",
    "plt.plot(time,[row[1] for row in act],'b-')\n",
    "\n",
    "plt.show()"
   ]
  }
 ],
 "metadata": {
  "accelerator": "GPU",
  "colab": {
   "collapsed_sections": [],
   "name": "gyroscope_ddpg_testing.ipynb",
   "provenance": []
  },
  "kernelspec": {
   "display_name": "ps1venv",
   "language": "python",
   "name": "ps1venv"
  },
  "language_info": {
   "codemirror_mode": {
    "name": "ipython",
    "version": 3
   },
   "file_extension": ".py",
   "mimetype": "text/x-python",
   "name": "python",
   "nbconvert_exporter": "python",
   "pygments_lexer": "ipython3",
   "version": "3.6.9"
  }
 },
 "nbformat": 4,
 "nbformat_minor": 1
}
