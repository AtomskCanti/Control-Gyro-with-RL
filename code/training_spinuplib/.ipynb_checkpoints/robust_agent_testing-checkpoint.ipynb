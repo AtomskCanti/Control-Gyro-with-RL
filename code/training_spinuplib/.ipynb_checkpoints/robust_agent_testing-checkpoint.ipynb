{
 "cells": [
  {
   "cell_type": "markdown",
   "metadata": {
    "colab_type": "text",
    "id": "x83dMPapQBN6"
   },
   "source": [
    "# Test training on GyroscopeRobustEnv (spinup library)"
   ]
  },
  {
   "cell_type": "code",
   "execution_count": 1,
   "metadata": {
    "colab": {},
    "colab_type": "code",
    "id": "fuJhdd479TpP"
   },
   "outputs": [],
   "source": [
    "import gym\n",
    "from gym import spaces\n",
    "from gym.utils import seeding\n",
    "from gym.envs.registration import register\n",
    "\n",
    "from custom_functions.custom_functions import env_fn \n",
    "from custom_functions.custom_functions import test_agent\n",
    "from custom_functions.custom_functions import plot_test\n",
    "\n",
    "import spinup\n",
    "\n",
    "from os import path\n",
    "from scipy.integrate import solve_ivp\n",
    "import random\n",
    "import torch\n",
    "import numpy as np\n",
    "from collections import deque\n",
    "import matplotlib.pyplot as plt\n",
    "%matplotlib inline\n",
    "#from vpython import *\n",
    "from functools import partial\n",
    "\n",
    "register(id='gyroscopeenv-v0',entry_point='gym_GyroscopeEnv.envs:GyroscopeEnv')\n",
    "register(id='gyroscoperobustenv-v0',entry_point='gym_GyroscopeEnv.envs:GyroscopeRobustEnv')"
   ]
  },
  {
   "cell_type": "markdown",
   "metadata": {
    "colab_type": "text",
    "id": "be0wYIeBQBOc"
   },
   "source": [
    "## Training"
   ]
  },
  {
   "cell_type": "code",
   "execution_count": 2,
   "metadata": {
    "colab": {
     "base_uri": "https://localhost:8080/",
     "height": 533
    },
    "colab_type": "code",
    "executionInfo": {
     "elapsed": 654004,
     "status": "error",
     "timestamp": 1584037207187,
     "user": {
      "displayName": "Matthieu Le Cauchois",
      "photoUrl": "https://lh3.googleusercontent.com/a-/AOh14GgY9gRlHHK-FHlINeRnTJw_wewJsr639GH8MAWl=s64",
      "userId": "10992927378504656501"
     },
     "user_tz": -60
    },
    "id": "fLyFHs0yQBOd",
    "outputId": "260489ff-5e40-416a-e529-5a0cfcaefceb",
    "scrolled": true
   },
   "outputs": [
    {
     "name": "stdout",
     "output_type": "stream",
     "text": [
      "\u001b[32;1mLogging data to best_agenttified/progress.txt\u001b[0m\n",
      "\u001b[36;1mSaving config:\n",
      "\u001b[0m\n",
      "{\n",
      "    \"ac_kwargs\":\t{\n",
      "        \"activation\":\t\"ReLU\",\n",
      "        \"hidden_sizes\":\t[\n",
      "            700,\n",
      "            70,\n",
      "            10\n",
      "        ]\n",
      "    },\n",
      "    \"act_noise\":\t0.5,\n",
      "    \"actor_critic\":\t\"MLPActorCritic\",\n",
      "    \"batch_size\":\t150,\n",
      "    \"env_fn\":\t\"functools.partial(<function env_fn at 0x7f4e1c8d32f0>, env_name='gyroscoperobustenv-v0', reward_type='Normalized', reward_args={'k': 0.05, 'qx2': 0.01, 'qx4': 0.01, 'pu1': 0.5, 'pu2': 0.5}, ep_len=110)\",\n",
      "    \"epochs\":\t800,\n",
      "    \"exp_name\":\t\"best_agentustified\",\n",
      "    \"gamma\":\t0.985,\n",
      "    \"logger\":\t{\n",
      "        \"<spinup.utils.logx.EpochLogger object at 0x7f4deaf080f0>\":\t{\n",
      "            \"epoch_dict\":\t{},\n",
      "            \"exp_name\":\t\"best_agentustified\",\n",
      "            \"first_row\":\ttrue,\n",
      "            \"log_current_row\":\t{},\n",
      "            \"log_headers\":\t[],\n",
      "            \"output_dir\":\t\"best_agenttified\",\n",
      "            \"output_file\":\t{\n",
      "                \"<_io.TextIOWrapper name='best_agenttified/progress.txt' mode='w' encoding='UTF-8'>\":\t{\n",
      "                    \"mode\":\t\"w\"\n",
      "                }\n",
      "            }\n",
      "        }\n",
      "    },\n",
      "    \"logger_kwargs\":\t{\n",
      "        \"exp_name\":\t\"best_agentustified\",\n",
      "        \"output_dir\":\t\"best_agenttified\"\n",
      "    },\n",
      "    \"max_ep_len\":\t110,\n",
      "    \"noise_clip\":\t0.04,\n",
      "    \"num_test_episodes\":\t10,\n",
      "    \"pi_lr\":\t0.0015,\n",
      "    \"policy_delay\":\t2,\n",
      "    \"polyak\":\t0.999,\n",
      "    \"q_lr\":\t0.0015,\n",
      "    \"replay_size\":\t1000000,\n",
      "    \"save_freq\":\t1,\n",
      "    \"seed\":\t10,\n",
      "    \"start_steps\":\t20000,\n",
      "    \"steps_per_epoch\":\t1650,\n",
      "    \"target_noise\":\t0.2,\n",
      "    \"update_after\":\t1000,\n",
      "    \"update_every\":\t50\n",
      "}\n",
      "\u001b[32;1m\n",
      "Number of parameters: \t pi: 56802, \t q1: 58191, \t q2: 58191\n",
      "\u001b[0m\n"
     ]
    },
    {
     "name": "stderr",
     "output_type": "stream",
     "text": [
      "/home/matthieulc/Documents/MA2/DRLGyro/resources/drlgyroenv/lib/python3.6/site-packages/gym/logger.py:30: UserWarning: \u001b[33mWARN: Box bound precision lowered by casting to float32\u001b[0m\n",
      "  warnings.warn(colorize('%s: %s'%('WARN', msg % args), 'yellow'))\n"
     ]
    },
    {
     "ename": "KeyboardInterrupt",
     "evalue": "",
     "output_type": "error",
     "traceback": [
      "\u001b[0;31m---------------------------------------------------------------------------\u001b[0m",
      "\u001b[0;31mKeyboardInterrupt\u001b[0m                         Traceback (most recent call last)",
      "\u001b[0;32m<ipython-input-2-d7575b55f419>\u001b[0m in \u001b[0;36m<module>\u001b[0;34m\u001b[0m\n\u001b[1;32m     27\u001b[0m \u001b[0;31m# Baseline 0 training\u001b[0m\u001b[0;34m\u001b[0m\u001b[0;34m\u001b[0m\u001b[0;34m\u001b[0m\u001b[0m\n\u001b[1;32m     28\u001b[0m spinup.td3_pytorch(env, ac_kwargs = args_b, seed = seed_b, steps_per_epoch = spe_b, epochs = epochs_b, replay_size = repsize_b, gamma = gamma_b,\n\u001b[0;32m---> 29\u001b[0;31m polyak = polyak_b, batch_size = batchsize_b, start_steps = startsteps_b, max_ep_len = maxeplen_b,logger_kwargs = logger_kwargs, act_noise = actnoise_b, pi_lr = pilr_b, q_lr = qlr_b, policy_delay = pd_b, target_noise = targnoise_b, noise_clip = noiseclip_b)\n\u001b[0m",
      "\u001b[0;32m~/Documents/MA2/DRLGyro/resources/spinningup/spinup/algos/pytorch/td3/td3.py\u001b[0m in \u001b[0;36mtd3\u001b[0;34m(env_fn, actor_critic, ac_kwargs, seed, steps_per_epoch, epochs, replay_size, gamma, polyak, pi_lr, q_lr, batch_size, start_steps, update_after, update_every, act_noise, target_noise, noise_clip, policy_delay, num_test_episodes, max_ep_len, logger_kwargs, save_freq)\u001b[0m\n\u001b[1;32m    296\u001b[0m \u001b[0;34m\u001b[0m\u001b[0m\n\u001b[1;32m    297\u001b[0m         \u001b[0;31m# Step the env\u001b[0m\u001b[0;34m\u001b[0m\u001b[0;34m\u001b[0m\u001b[0;34m\u001b[0m\u001b[0m\n\u001b[0;32m--> 298\u001b[0;31m         \u001b[0mo2\u001b[0m\u001b[0;34m,\u001b[0m \u001b[0mr\u001b[0m\u001b[0;34m,\u001b[0m \u001b[0md\u001b[0m\u001b[0;34m,\u001b[0m \u001b[0m_\u001b[0m \u001b[0;34m=\u001b[0m \u001b[0menv\u001b[0m\u001b[0;34m.\u001b[0m\u001b[0mstep\u001b[0m\u001b[0;34m(\u001b[0m\u001b[0ma\u001b[0m\u001b[0;34m)\u001b[0m\u001b[0;34m\u001b[0m\u001b[0;34m\u001b[0m\u001b[0m\n\u001b[0m\u001b[1;32m    299\u001b[0m         \u001b[0mep_ret\u001b[0m \u001b[0;34m+=\u001b[0m \u001b[0mr\u001b[0m\u001b[0;34m\u001b[0m\u001b[0;34m\u001b[0m\u001b[0m\n\u001b[1;32m    300\u001b[0m         \u001b[0mep_len\u001b[0m \u001b[0;34m+=\u001b[0m \u001b[0;36m1\u001b[0m\u001b[0;34m\u001b[0m\u001b[0;34m\u001b[0m\u001b[0m\n",
      "\u001b[0;32m~/Documents/MA2/DRLGyro/code/environment/Gyroscope/gym_GyroscopeEnv/envs/gyroscoperobust_env.py\u001b[0m in \u001b[0;36mstep\u001b[0;34m(self, u)\u001b[0m\n\u001b[1;32m    143\u001b[0m \u001b[0;34m\u001b[0m\u001b[0m\n\u001b[1;32m    144\u001b[0m         \u001b[0;31m# Simulate\u001b[0m\u001b[0;34m\u001b[0m\u001b[0;34m\u001b[0m\u001b[0;34m\u001b[0m\u001b[0m\n\u001b[0;32m--> 145\u001b[0;31m         \u001b[0mresults\u001b[0m \u001b[0;34m=\u001b[0m \u001b[0msolve_ivp\u001b[0m\u001b[0;34m(\u001b[0m\u001b[0mfun\u001b[0m \u001b[0;34m=\u001b[0m \u001b[0mdxdt_friction\u001b[0m\u001b[0;34m,\u001b[0m \u001b[0mt_span\u001b[0m \u001b[0;34m=\u001b[0m \u001b[0;34m(\u001b[0m\u001b[0;36m0\u001b[0m\u001b[0;34m,\u001b[0m \u001b[0mself\u001b[0m\u001b[0;34m.\u001b[0m\u001b[0mdt\u001b[0m\u001b[0;34m)\u001b[0m\u001b[0;34m,\u001b[0m \u001b[0my0\u001b[0m \u001b[0;34m=\u001b[0m \u001b[0;34m[\u001b[0m\u001b[0mx1\u001b[0m\u001b[0;34m,\u001b[0m\u001b[0mx2\u001b[0m\u001b[0;34m,\u001b[0m\u001b[0mx3\u001b[0m\u001b[0;34m,\u001b[0m\u001b[0mx4\u001b[0m\u001b[0;34m]\u001b[0m\u001b[0;34m,\u001b[0m \u001b[0mmethod\u001b[0m\u001b[0;34m=\u001b[0m\u001b[0;34m'RK45'\u001b[0m\u001b[0;34m,\u001b[0m  \u001b[0mt_eval\u001b[0m \u001b[0;34m=\u001b[0m \u001b[0mnp\u001b[0m\u001b[0;34m.\u001b[0m\u001b[0mlinspace\u001b[0m\u001b[0;34m(\u001b[0m\u001b[0;36m0\u001b[0m\u001b[0;34m,\u001b[0m\u001b[0mself\u001b[0m\u001b[0;34m.\u001b[0m\u001b[0mdt\u001b[0m\u001b[0;34m,\u001b[0m\u001b[0mself\u001b[0m\u001b[0;34m.\u001b[0m\u001b[0meval_per_dt\u001b[0m\u001b[0;34m)\u001b[0m\u001b[0;34m,\u001b[0m \u001b[0margs\u001b[0m\u001b[0;34m=\u001b[0m\u001b[0;34m(\u001b[0m\u001b[0mself\u001b[0m\u001b[0;34m.\u001b[0m\u001b[0mmaxVoltage\u001b[0m\u001b[0;34m*\u001b[0m\u001b[0mu1\u001b[0m\u001b[0;34m,\u001b[0m\u001b[0mself\u001b[0m\u001b[0;34m.\u001b[0m\u001b[0mmaxVoltage\u001b[0m\u001b[0;34m*\u001b[0m\u001b[0mu2\u001b[0m\u001b[0;34m,\u001b[0m\u001b[0mself\u001b[0m\u001b[0;34m)\u001b[0m\u001b[0;34m)\u001b[0m\u001b[0;34m\u001b[0m\u001b[0;34m\u001b[0m\u001b[0m\n\u001b[0m\u001b[1;32m    146\u001b[0m \u001b[0;34m\u001b[0m\u001b[0m\n\u001b[1;32m    147\u001b[0m         \u001b[0;31m# For rendering\u001b[0m\u001b[0;34m\u001b[0m\u001b[0;34m\u001b[0m\u001b[0;34m\u001b[0m\u001b[0m\n",
      "\u001b[0;32m~/Documents/MA2/DRLGyro/resources/drlgyroenv/lib/python3.6/site-packages/scipy/integrate/_ivp/ivp.py\u001b[0m in \u001b[0;36msolve_ivp\u001b[0;34m(fun, t_span, y0, method, t_eval, dense_output, events, vectorized, args, **options)\u001b[0m\n\u001b[1;32m    575\u001b[0m     \u001b[0mstatus\u001b[0m \u001b[0;34m=\u001b[0m \u001b[0;32mNone\u001b[0m\u001b[0;34m\u001b[0m\u001b[0;34m\u001b[0m\u001b[0m\n\u001b[1;32m    576\u001b[0m     \u001b[0;32mwhile\u001b[0m \u001b[0mstatus\u001b[0m \u001b[0;32mis\u001b[0m \u001b[0;32mNone\u001b[0m\u001b[0;34m:\u001b[0m\u001b[0;34m\u001b[0m\u001b[0;34m\u001b[0m\u001b[0m\n\u001b[0;32m--> 577\u001b[0;31m         \u001b[0mmessage\u001b[0m \u001b[0;34m=\u001b[0m \u001b[0msolver\u001b[0m\u001b[0;34m.\u001b[0m\u001b[0mstep\u001b[0m\u001b[0;34m(\u001b[0m\u001b[0;34m)\u001b[0m\u001b[0;34m\u001b[0m\u001b[0;34m\u001b[0m\u001b[0m\n\u001b[0m\u001b[1;32m    578\u001b[0m \u001b[0;34m\u001b[0m\u001b[0m\n\u001b[1;32m    579\u001b[0m         \u001b[0;32mif\u001b[0m \u001b[0msolver\u001b[0m\u001b[0;34m.\u001b[0m\u001b[0mstatus\u001b[0m \u001b[0;34m==\u001b[0m \u001b[0;34m'finished'\u001b[0m\u001b[0;34m:\u001b[0m\u001b[0;34m\u001b[0m\u001b[0;34m\u001b[0m\u001b[0m\n",
      "\u001b[0;32m~/Documents/MA2/DRLGyro/resources/drlgyroenv/lib/python3.6/site-packages/scipy/integrate/_ivp/base.py\u001b[0m in \u001b[0;36mstep\u001b[0;34m(self)\u001b[0m\n\u001b[1;32m    180\u001b[0m         \u001b[0;32melse\u001b[0m\u001b[0;34m:\u001b[0m\u001b[0;34m\u001b[0m\u001b[0;34m\u001b[0m\u001b[0m\n\u001b[1;32m    181\u001b[0m             \u001b[0mt\u001b[0m \u001b[0;34m=\u001b[0m \u001b[0mself\u001b[0m\u001b[0;34m.\u001b[0m\u001b[0mt\u001b[0m\u001b[0;34m\u001b[0m\u001b[0;34m\u001b[0m\u001b[0m\n\u001b[0;32m--> 182\u001b[0;31m             \u001b[0msuccess\u001b[0m\u001b[0;34m,\u001b[0m \u001b[0mmessage\u001b[0m \u001b[0;34m=\u001b[0m \u001b[0mself\u001b[0m\u001b[0;34m.\u001b[0m\u001b[0m_step_impl\u001b[0m\u001b[0;34m(\u001b[0m\u001b[0;34m)\u001b[0m\u001b[0;34m\u001b[0m\u001b[0;34m\u001b[0m\u001b[0m\n\u001b[0m\u001b[1;32m    183\u001b[0m \u001b[0;34m\u001b[0m\u001b[0m\n\u001b[1;32m    184\u001b[0m             \u001b[0;32mif\u001b[0m \u001b[0;32mnot\u001b[0m \u001b[0msuccess\u001b[0m\u001b[0;34m:\u001b[0m\u001b[0;34m\u001b[0m\u001b[0;34m\u001b[0m\u001b[0m\n",
      "\u001b[0;32m~/Documents/MA2/DRLGyro/resources/drlgyroenv/lib/python3.6/site-packages/scipy/integrate/_ivp/rk.py\u001b[0m in \u001b[0;36m_step_impl\u001b[0;34m(self)\u001b[0m\n\u001b[1;32m    144\u001b[0m \u001b[0;34m\u001b[0m\u001b[0m\n\u001b[1;32m    145\u001b[0m             y_new, f_new = rk_step(self.fun, t, y, self.f, h, self.A,\n\u001b[0;32m--> 146\u001b[0;31m                                    self.B, self.C, self.K)\n\u001b[0m\u001b[1;32m    147\u001b[0m             \u001b[0mscale\u001b[0m \u001b[0;34m=\u001b[0m \u001b[0matol\u001b[0m \u001b[0;34m+\u001b[0m \u001b[0mnp\u001b[0m\u001b[0;34m.\u001b[0m\u001b[0mmaximum\u001b[0m\u001b[0;34m(\u001b[0m\u001b[0mnp\u001b[0m\u001b[0;34m.\u001b[0m\u001b[0mabs\u001b[0m\u001b[0;34m(\u001b[0m\u001b[0my\u001b[0m\u001b[0;34m)\u001b[0m\u001b[0;34m,\u001b[0m \u001b[0mnp\u001b[0m\u001b[0;34m.\u001b[0m\u001b[0mabs\u001b[0m\u001b[0;34m(\u001b[0m\u001b[0my_new\u001b[0m\u001b[0;34m)\u001b[0m\u001b[0;34m)\u001b[0m \u001b[0;34m*\u001b[0m \u001b[0mrtol\u001b[0m\u001b[0;34m\u001b[0m\u001b[0;34m\u001b[0m\u001b[0m\n\u001b[1;32m    148\u001b[0m             \u001b[0merror_norm\u001b[0m \u001b[0;34m=\u001b[0m \u001b[0mself\u001b[0m\u001b[0;34m.\u001b[0m\u001b[0m_estimate_error_norm\u001b[0m\u001b[0;34m(\u001b[0m\u001b[0mself\u001b[0m\u001b[0;34m.\u001b[0m\u001b[0mK\u001b[0m\u001b[0;34m,\u001b[0m \u001b[0mh\u001b[0m\u001b[0;34m,\u001b[0m \u001b[0mscale\u001b[0m\u001b[0;34m)\u001b[0m\u001b[0;34m\u001b[0m\u001b[0;34m\u001b[0m\u001b[0m\n",
      "\u001b[0;32m~/Documents/MA2/DRLGyro/resources/drlgyroenv/lib/python3.6/site-packages/scipy/integrate/_ivp/rk.py\u001b[0m in \u001b[0;36mrk_step\u001b[0;34m(fun, t, y, f, h, A, B, C, K)\u001b[0m\n\u001b[1;32m     63\u001b[0m     \u001b[0;32mfor\u001b[0m \u001b[0ms\u001b[0m\u001b[0;34m,\u001b[0m \u001b[0;34m(\u001b[0m\u001b[0ma\u001b[0m\u001b[0;34m,\u001b[0m \u001b[0mc\u001b[0m\u001b[0;34m)\u001b[0m \u001b[0;32min\u001b[0m \u001b[0menumerate\u001b[0m\u001b[0;34m(\u001b[0m\u001b[0mzip\u001b[0m\u001b[0;34m(\u001b[0m\u001b[0mA\u001b[0m\u001b[0;34m[\u001b[0m\u001b[0;36m1\u001b[0m\u001b[0;34m:\u001b[0m\u001b[0;34m]\u001b[0m\u001b[0;34m,\u001b[0m \u001b[0mC\u001b[0m\u001b[0;34m[\u001b[0m\u001b[0;36m1\u001b[0m\u001b[0;34m:\u001b[0m\u001b[0;34m]\u001b[0m\u001b[0;34m)\u001b[0m\u001b[0;34m,\u001b[0m \u001b[0mstart\u001b[0m\u001b[0;34m=\u001b[0m\u001b[0;36m1\u001b[0m\u001b[0;34m)\u001b[0m\u001b[0;34m:\u001b[0m\u001b[0;34m\u001b[0m\u001b[0;34m\u001b[0m\u001b[0m\n\u001b[1;32m     64\u001b[0m         \u001b[0mdy\u001b[0m \u001b[0;34m=\u001b[0m \u001b[0mnp\u001b[0m\u001b[0;34m.\u001b[0m\u001b[0mdot\u001b[0m\u001b[0;34m(\u001b[0m\u001b[0mK\u001b[0m\u001b[0;34m[\u001b[0m\u001b[0;34m:\u001b[0m\u001b[0ms\u001b[0m\u001b[0;34m]\u001b[0m\u001b[0;34m.\u001b[0m\u001b[0mT\u001b[0m\u001b[0;34m,\u001b[0m \u001b[0ma\u001b[0m\u001b[0;34m[\u001b[0m\u001b[0;34m:\u001b[0m\u001b[0ms\u001b[0m\u001b[0;34m]\u001b[0m\u001b[0;34m)\u001b[0m \u001b[0;34m*\u001b[0m \u001b[0mh\u001b[0m\u001b[0;34m\u001b[0m\u001b[0;34m\u001b[0m\u001b[0m\n\u001b[0;32m---> 65\u001b[0;31m         \u001b[0mK\u001b[0m\u001b[0;34m[\u001b[0m\u001b[0ms\u001b[0m\u001b[0;34m]\u001b[0m \u001b[0;34m=\u001b[0m \u001b[0mfun\u001b[0m\u001b[0;34m(\u001b[0m\u001b[0mt\u001b[0m \u001b[0;34m+\u001b[0m \u001b[0mc\u001b[0m \u001b[0;34m*\u001b[0m \u001b[0mh\u001b[0m\u001b[0;34m,\u001b[0m \u001b[0my\u001b[0m \u001b[0;34m+\u001b[0m \u001b[0mdy\u001b[0m\u001b[0;34m)\u001b[0m\u001b[0;34m\u001b[0m\u001b[0;34m\u001b[0m\u001b[0m\n\u001b[0m\u001b[1;32m     66\u001b[0m \u001b[0;34m\u001b[0m\u001b[0m\n\u001b[1;32m     67\u001b[0m     \u001b[0my_new\u001b[0m \u001b[0;34m=\u001b[0m \u001b[0my\u001b[0m \u001b[0;34m+\u001b[0m \u001b[0mh\u001b[0m \u001b[0;34m*\u001b[0m \u001b[0mnp\u001b[0m\u001b[0;34m.\u001b[0m\u001b[0mdot\u001b[0m\u001b[0;34m(\u001b[0m\u001b[0mK\u001b[0m\u001b[0;34m[\u001b[0m\u001b[0;34m:\u001b[0m\u001b[0;34m-\u001b[0m\u001b[0;36m1\u001b[0m\u001b[0;34m]\u001b[0m\u001b[0;34m.\u001b[0m\u001b[0mT\u001b[0m\u001b[0;34m,\u001b[0m \u001b[0mB\u001b[0m\u001b[0;34m)\u001b[0m\u001b[0;34m\u001b[0m\u001b[0;34m\u001b[0m\u001b[0m\n",
      "\u001b[0;32m~/Documents/MA2/DRLGyro/resources/drlgyroenv/lib/python3.6/site-packages/scipy/integrate/_ivp/base.py\u001b[0m in \u001b[0;36mfun\u001b[0;34m(t, y)\u001b[0m\n\u001b[1;32m    137\u001b[0m         \u001b[0;32mdef\u001b[0m \u001b[0mfun\u001b[0m\u001b[0;34m(\u001b[0m\u001b[0mt\u001b[0m\u001b[0;34m,\u001b[0m \u001b[0my\u001b[0m\u001b[0;34m)\u001b[0m\u001b[0;34m:\u001b[0m\u001b[0;34m\u001b[0m\u001b[0;34m\u001b[0m\u001b[0m\n\u001b[1;32m    138\u001b[0m             \u001b[0mself\u001b[0m\u001b[0;34m.\u001b[0m\u001b[0mnfev\u001b[0m \u001b[0;34m+=\u001b[0m \u001b[0;36m1\u001b[0m\u001b[0;34m\u001b[0m\u001b[0;34m\u001b[0m\u001b[0m\n\u001b[0;32m--> 139\u001b[0;31m             \u001b[0;32mreturn\u001b[0m \u001b[0mself\u001b[0m\u001b[0;34m.\u001b[0m\u001b[0mfun_single\u001b[0m\u001b[0;34m(\u001b[0m\u001b[0mt\u001b[0m\u001b[0;34m,\u001b[0m \u001b[0my\u001b[0m\u001b[0;34m)\u001b[0m\u001b[0;34m\u001b[0m\u001b[0;34m\u001b[0m\u001b[0m\n\u001b[0m\u001b[1;32m    140\u001b[0m \u001b[0;34m\u001b[0m\u001b[0m\n\u001b[1;32m    141\u001b[0m         \u001b[0mself\u001b[0m\u001b[0;34m.\u001b[0m\u001b[0mfun\u001b[0m \u001b[0;34m=\u001b[0m \u001b[0mfun\u001b[0m\u001b[0;34m\u001b[0m\u001b[0;34m\u001b[0m\u001b[0m\n",
      "\u001b[0;32m~/Documents/MA2/DRLGyro/resources/drlgyroenv/lib/python3.6/site-packages/scipy/integrate/_ivp/base.py\u001b[0m in \u001b[0;36mfun_wrapped\u001b[0;34m(t, y)\u001b[0m\n\u001b[1;32m     19\u001b[0m \u001b[0;34m\u001b[0m\u001b[0m\n\u001b[1;32m     20\u001b[0m     \u001b[0;32mdef\u001b[0m \u001b[0mfun_wrapped\u001b[0m\u001b[0;34m(\u001b[0m\u001b[0mt\u001b[0m\u001b[0;34m,\u001b[0m \u001b[0my\u001b[0m\u001b[0;34m)\u001b[0m\u001b[0;34m:\u001b[0m\u001b[0;34m\u001b[0m\u001b[0;34m\u001b[0m\u001b[0m\n\u001b[0;32m---> 21\u001b[0;31m         \u001b[0;32mreturn\u001b[0m \u001b[0mnp\u001b[0m\u001b[0;34m.\u001b[0m\u001b[0masarray\u001b[0m\u001b[0;34m(\u001b[0m\u001b[0mfun\u001b[0m\u001b[0;34m(\u001b[0m\u001b[0mt\u001b[0m\u001b[0;34m,\u001b[0m \u001b[0my\u001b[0m\u001b[0;34m)\u001b[0m\u001b[0;34m,\u001b[0m \u001b[0mdtype\u001b[0m\u001b[0;34m=\u001b[0m\u001b[0mdtype\u001b[0m\u001b[0;34m)\u001b[0m\u001b[0;34m\u001b[0m\u001b[0;34m\u001b[0m\u001b[0m\n\u001b[0m\u001b[1;32m     22\u001b[0m \u001b[0;34m\u001b[0m\u001b[0m\n\u001b[1;32m     23\u001b[0m     \u001b[0;32mreturn\u001b[0m \u001b[0mfun_wrapped\u001b[0m\u001b[0;34m,\u001b[0m \u001b[0my0\u001b[0m\u001b[0;34m\u001b[0m\u001b[0;34m\u001b[0m\u001b[0m\n",
      "\u001b[0;32m~/Documents/MA2/DRLGyro/resources/drlgyroenv/lib/python3.6/site-packages/scipy/integrate/_ivp/ivp.py\u001b[0m in \u001b[0;36m<lambda>\u001b[0;34m(t, x, fun)\u001b[0m\n\u001b[1;32m    513\u001b[0m         \u001b[0;31m# additional parameters.  Pass in the original fun as a keyword\u001b[0m\u001b[0;34m\u001b[0m\u001b[0;34m\u001b[0m\u001b[0;34m\u001b[0m\u001b[0m\n\u001b[1;32m    514\u001b[0m         \u001b[0;31m# argument to keep it in the scope of the lambda.\u001b[0m\u001b[0;34m\u001b[0m\u001b[0;34m\u001b[0m\u001b[0;34m\u001b[0m\u001b[0m\n\u001b[0;32m--> 515\u001b[0;31m         \u001b[0mfun\u001b[0m \u001b[0;34m=\u001b[0m \u001b[0;32mlambda\u001b[0m \u001b[0mt\u001b[0m\u001b[0;34m,\u001b[0m \u001b[0mx\u001b[0m\u001b[0;34m,\u001b[0m \u001b[0mfun\u001b[0m\u001b[0;34m=\u001b[0m\u001b[0mfun\u001b[0m\u001b[0;34m:\u001b[0m \u001b[0mfun\u001b[0m\u001b[0;34m(\u001b[0m\u001b[0mt\u001b[0m\u001b[0;34m,\u001b[0m \u001b[0mx\u001b[0m\u001b[0;34m,\u001b[0m \u001b[0;34m*\u001b[0m\u001b[0margs\u001b[0m\u001b[0;34m)\u001b[0m\u001b[0;34m\u001b[0m\u001b[0;34m\u001b[0m\u001b[0m\n\u001b[0m\u001b[1;32m    516\u001b[0m         \u001b[0mjac\u001b[0m \u001b[0;34m=\u001b[0m \u001b[0moptions\u001b[0m\u001b[0;34m.\u001b[0m\u001b[0mget\u001b[0m\u001b[0;34m(\u001b[0m\u001b[0;34m'jac'\u001b[0m\u001b[0;34m)\u001b[0m\u001b[0;34m\u001b[0m\u001b[0;34m\u001b[0m\u001b[0m\n\u001b[1;32m    517\u001b[0m         \u001b[0;32mif\u001b[0m \u001b[0mcallable\u001b[0m\u001b[0;34m(\u001b[0m\u001b[0mjac\u001b[0m\u001b[0;34m)\u001b[0m\u001b[0;34m:\u001b[0m\u001b[0;34m\u001b[0m\u001b[0;34m\u001b[0m\u001b[0m\n",
      "\u001b[0;32m~/Documents/MA2/DRLGyro/code/environment/Gyroscope/gym_GyroscopeEnv/envs/gyroscoperobust_env.py\u001b[0m in \u001b[0;36mdxdt_friction\u001b[0;34m(t, x, u1, u2, gyro)\u001b[0m\n\u001b[1;32m    282\u001b[0m         \u001b[0mdx_dt\u001b[0m \u001b[0;34m=\u001b[0m \u001b[0;34m[\u001b[0m\u001b[0;36m0\u001b[0m\u001b[0;34m,\u001b[0m \u001b[0;36m0\u001b[0m\u001b[0;34m,\u001b[0m \u001b[0;36m0\u001b[0m\u001b[0;34m,\u001b[0m \u001b[0;36m0\u001b[0m\u001b[0;34m]\u001b[0m\u001b[0;34m\u001b[0m\u001b[0;34m\u001b[0m\u001b[0m\n\u001b[1;32m    283\u001b[0m         \u001b[0mdx_dt\u001b[0m\u001b[0;34m[\u001b[0m\u001b[0;36m0\u001b[0m\u001b[0;34m]\u001b[0m \u001b[0;34m=\u001b[0m \u001b[0mx\u001b[0m\u001b[0;34m[\u001b[0m\u001b[0;36m1\u001b[0m\u001b[0;34m]\u001b[0m\u001b[0;34m\u001b[0m\u001b[0;34m\u001b[0m\u001b[0m\n\u001b[0;32m--> 284\u001b[0;31m         \u001b[0mdx_dt\u001b[0m\u001b[0;34m[\u001b[0m\u001b[0;36m1\u001b[0m\u001b[0;34m]\u001b[0m \u001b[0;34m=\u001b[0m \u001b[0;34m(\u001b[0m\u001b[0mu1\u001b[0m \u001b[0;34m-\u001b[0m \u001b[0mgyro\u001b[0m\u001b[0;34m.\u001b[0m\u001b[0mfcr\u001b[0m\u001b[0;34m*\u001b[0m\u001b[0mnp\u001b[0m\u001b[0;34m.\u001b[0m\u001b[0msign\u001b[0m\u001b[0;34m(\u001b[0m\u001b[0mx\u001b[0m\u001b[0;34m[\u001b[0m\u001b[0;36m1\u001b[0m\u001b[0;34m]\u001b[0m\u001b[0;34m)\u001b[0m \u001b[0;34m-\u001b[0m \u001b[0mgyro\u001b[0m\u001b[0;34m.\u001b[0m\u001b[0mfvr\u001b[0m\u001b[0;34m*\u001b[0m\u001b[0mx\u001b[0m\u001b[0;34m[\u001b[0m\u001b[0;36m1\u001b[0m\u001b[0;34m]\u001b[0m \u001b[0;34m+\u001b[0m\u001b[0mJ1\u001b[0m\u001b[0;34m*\u001b[0m\u001b[0mnp\u001b[0m\u001b[0;34m.\u001b[0m\u001b[0msin\u001b[0m\u001b[0;34m(\u001b[0m\u001b[0;36m2\u001b[0m\u001b[0;34m*\u001b[0m\u001b[0mx\u001b[0m\u001b[0;34m[\u001b[0m\u001b[0;36m2\u001b[0m\u001b[0;34m]\u001b[0m\u001b[0;34m)\u001b[0m\u001b[0;34m*\u001b[0m\u001b[0mx\u001b[0m\u001b[0;34m[\u001b[0m\u001b[0;36m1\u001b[0m\u001b[0;34m]\u001b[0m\u001b[0;34m*\u001b[0m\u001b[0mx\u001b[0m\u001b[0;34m[\u001b[0m\u001b[0;36m3\u001b[0m\u001b[0;34m]\u001b[0m\u001b[0;34m-\u001b[0m\u001b[0mJdx3\u001b[0m\u001b[0;34m*\u001b[0m\u001b[0mnp\u001b[0m\u001b[0;34m.\u001b[0m\u001b[0mcos\u001b[0m\u001b[0;34m(\u001b[0m\u001b[0mx\u001b[0m\u001b[0;34m[\u001b[0m\u001b[0;36m2\u001b[0m\u001b[0;34m]\u001b[0m\u001b[0;34m)\u001b[0m\u001b[0;34m*\u001b[0m\u001b[0mx\u001b[0m\u001b[0;34m[\u001b[0m\u001b[0;36m3\u001b[0m\u001b[0;34m]\u001b[0m\u001b[0;34m*\u001b[0m\u001b[0mw\u001b[0m\u001b[0;34m)\u001b[0m\u001b[0;34m/\u001b[0m\u001b[0;34m(\u001b[0m\u001b[0mJ2\u001b[0m \u001b[0;34m+\u001b[0m \u001b[0mJ1\u001b[0m\u001b[0;34m*\u001b[0m\u001b[0mnp\u001b[0m\u001b[0;34m.\u001b[0m\u001b[0mpower\u001b[0m\u001b[0;34m(\u001b[0m\u001b[0mnp\u001b[0m\u001b[0;34m.\u001b[0m\u001b[0msin\u001b[0m\u001b[0;34m(\u001b[0m\u001b[0mx\u001b[0m\u001b[0;34m[\u001b[0m\u001b[0;36m2\u001b[0m\u001b[0;34m]\u001b[0m\u001b[0;34m)\u001b[0m\u001b[0;34m,\u001b[0m\u001b[0;36m2\u001b[0m\u001b[0;34m)\u001b[0m\u001b[0;34m)\u001b[0m\u001b[0;34m\u001b[0m\u001b[0;34m\u001b[0m\u001b[0m\n\u001b[0m\u001b[1;32m    285\u001b[0m         \u001b[0mdx_dt\u001b[0m\u001b[0;34m[\u001b[0m\u001b[0;36m2\u001b[0m\u001b[0;34m]\u001b[0m \u001b[0;34m=\u001b[0m \u001b[0mx\u001b[0m\u001b[0;34m[\u001b[0m\u001b[0;36m3\u001b[0m\u001b[0;34m]\u001b[0m\u001b[0;34m\u001b[0m\u001b[0;34m\u001b[0m\u001b[0m\n\u001b[1;32m    286\u001b[0m         \u001b[0mdx_dt\u001b[0m\u001b[0;34m[\u001b[0m\u001b[0;36m3\u001b[0m\u001b[0;34m]\u001b[0m \u001b[0;34m=\u001b[0m \u001b[0;34m(\u001b[0m\u001b[0mu2\u001b[0m \u001b[0;34m-\u001b[0m \u001b[0mgyro\u001b[0m\u001b[0;34m.\u001b[0m\u001b[0mfcb\u001b[0m\u001b[0;34m*\u001b[0m\u001b[0mnp\u001b[0m\u001b[0;34m.\u001b[0m\u001b[0msign\u001b[0m\u001b[0;34m(\u001b[0m\u001b[0mx\u001b[0m\u001b[0;34m[\u001b[0m\u001b[0;36m3\u001b[0m\u001b[0;34m]\u001b[0m\u001b[0;34m)\u001b[0m \u001b[0;34m-\u001b[0m \u001b[0mgyro\u001b[0m\u001b[0;34m.\u001b[0m\u001b[0mfvb\u001b[0m\u001b[0;34m*\u001b[0m\u001b[0mx\u001b[0m\u001b[0;34m[\u001b[0m\u001b[0;36m3\u001b[0m\u001b[0;34m]\u001b[0m \u001b[0;34m-\u001b[0m \u001b[0mJ1\u001b[0m\u001b[0;34m*\u001b[0m\u001b[0mnp\u001b[0m\u001b[0;34m.\u001b[0m\u001b[0mcos\u001b[0m\u001b[0;34m(\u001b[0m\u001b[0mx\u001b[0m\u001b[0;34m[\u001b[0m\u001b[0;36m2\u001b[0m\u001b[0;34m]\u001b[0m\u001b[0;34m)\u001b[0m\u001b[0;34m*\u001b[0m\u001b[0mnp\u001b[0m\u001b[0;34m.\u001b[0m\u001b[0msin\u001b[0m\u001b[0;34m(\u001b[0m\u001b[0mx\u001b[0m\u001b[0;34m[\u001b[0m\u001b[0;36m2\u001b[0m\u001b[0;34m]\u001b[0m\u001b[0;34m)\u001b[0m\u001b[0;34m*\u001b[0m\u001b[0mnp\u001b[0m\u001b[0;34m.\u001b[0m\u001b[0mpower\u001b[0m\u001b[0;34m(\u001b[0m\u001b[0mx\u001b[0m\u001b[0;34m[\u001b[0m\u001b[0;36m1\u001b[0m\u001b[0;34m]\u001b[0m\u001b[0;34m,\u001b[0m\u001b[0;36m2\u001b[0m\u001b[0;34m)\u001b[0m\u001b[0;34m+\u001b[0m\u001b[0mJdx3\u001b[0m\u001b[0;34m*\u001b[0m\u001b[0mnp\u001b[0m\u001b[0;34m.\u001b[0m\u001b[0mcos\u001b[0m\u001b[0;34m(\u001b[0m\u001b[0mx\u001b[0m\u001b[0;34m[\u001b[0m\u001b[0;36m2\u001b[0m\u001b[0;34m]\u001b[0m\u001b[0;34m)\u001b[0m\u001b[0;34m*\u001b[0m\u001b[0mx\u001b[0m\u001b[0;34m[\u001b[0m\u001b[0;36m1\u001b[0m\u001b[0;34m]\u001b[0m\u001b[0;34m*\u001b[0m\u001b[0mw\u001b[0m\u001b[0;34m)\u001b[0m\u001b[0;34m/\u001b[0m\u001b[0mJ3\u001b[0m\u001b[0;34m\u001b[0m\u001b[0;34m\u001b[0m\u001b[0m\n",
      "\u001b[0;31mKeyboardInterrupt\u001b[0m: "
     ]
    }
   ],
   "source": [
    "# Setup baseline 0\n",
    "logger_kwargs = dict(output_dir='best_agenttified', exp_name='best_agentustified')\n",
    "seed_b = 10\n",
    "epochs_b = 800\n",
    "maxeplen_b = 110\n",
    "\n",
    "spe_b = maxeplen_b * 15\n",
    "repsize_b = 1000000\n",
    "gamma_b = 0.985\n",
    "polyak_b = 0.999\n",
    "batchsize_b = 150\n",
    "startsteps_b = 20000\n",
    "args_b = dict(hidden_sizes=[700,70,10], activation=torch.nn.ReLU)\n",
    "actnoise_b = 0.5\n",
    "pilr_b = 0.0015\n",
    "qlr_b = 0.0015\n",
    "\n",
    "# TD3 specific params\n",
    "pd_b = 2\n",
    "targnoise_b = 0.2\n",
    "noiseclip_b = 0.04\n",
    "\n",
    "# Env function\n",
    "reward_args = {'k': 0.05, 'qx2' : 0.01, 'qx4' : 0.01, 'pu1':0.5,'pu2':0.5}\n",
    "env = partial(env_fn,env_name = 'gyroscoperobustenv-v0',reward_type = 'Normalized', reward_args = reward_args,ep_len=110)\n",
    "\n",
    "# Baseline 0 training\n",
    "spinup.td3_pytorch(env, ac_kwargs = args_b, seed = seed_b, steps_per_epoch = spe_b, epochs = epochs_b, replay_size = repsize_b, gamma = gamma_b,\n",
    "polyak = polyak_b, batch_size = batchsize_b, start_steps = startsteps_b, max_ep_len = maxeplen_b,logger_kwargs = logger_kwargs, act_noise = actnoise_b, pi_lr = pilr_b, q_lr = qlr_b, policy_delay = pd_b, target_noise = targnoise_b, noise_clip = noiseclip_b)"
   ]
  },
  {
   "cell_type": "markdown",
   "metadata": {
    "colab_type": "text",
    "id": "Gn3Gp40bcOVz"
   },
   "source": [
    "## Robustness to model parameters test"
   ]
  },
  {
   "cell_type": "code",
   "execution_count": 4,
   "metadata": {},
   "outputs": [],
   "source": [
    "Jbx1 = 0.0019\n",
    "Jbx2 = 0.0008\n",
    "Jbx3 = 0.0012\n",
    "Jrx1 = 0.0179\n",
    "Jdx1 = 0.0028\n",
    "Jdx3 = 0.0056\n",
    "param =  {'Jbx1':1.25*Jbx1,'Jbx2':1.25*Jbx2,'Jbx3':1.25*Jbx3,'Jrx1':1.25*Jrx1,'Jdx1':1.25*Jdx1,'Jdx3':1.25*Jdx3,'fvr':0.0027,'fcr':0.001,'fvb':0.0053,'fcb':0.001}"
   ]
  },
  {
   "cell_type": "markdown",
   "metadata": {},
   "source": [
    "#### FL"
   ]
  },
  {
   "cell_type": "code",
   "execution_count": 6,
   "metadata": {},
   "outputs": [
    {
     "name": "stdout",
     "output_type": "stream",
     "text": [
      "Total cumulative reward: -55.21910531490443\n"
     ]
    }
   ],
   "source": [
    "# Test paramaters\n",
    "env_name = 'gyroscopeenv-v0'\n",
    "reward_type = 'Normalized'\n",
    "reward_args = {'k': 0.05, 'qx2' : 0, 'qx4' : 0, 'pu1':0,'pu2':0}\n",
    "seed = 0\n",
    "agent_path = 'linearized controller'\n",
    "init_state = [0,0,20*np.pi/180,0,0,20*np.pi/180,200*2*np.pi/60]\n",
    "ep_len = 400\n",
    "t_end = ep_len*0.05\n",
    "x1_ref_seq = np.append(np.full(100,0),np.full(300,60*np.pi/180))\n",
    "x3_ref_seq = np.append(np.full(100,20*np.pi/180),np.full(300,20*np.pi/180))\n",
    "\n",
    "# Perform testing\n",
    "r,score,x1_eval_lin,x2_eval,x3_eval_lin,x4_eval,x1_ref_eval_lin,x3_ref_eval_lin,act = test_agent(env_name,reward_type,reward_args,seed,agent_path,init_state,t_end,ep_len,x1_ref_seq,x3_ref_seq,)"
   ]
  },
  {
   "cell_type": "code",
   "execution_count": 7,
   "metadata": {
    "colab": {
     "base_uri": "https://localhost:8080/",
     "height": 106
    },
    "colab_type": "code",
    "executionInfo": {
     "elapsed": 972,
     "status": "ok",
     "timestamp": 1584036455886,
     "user": {
      "displayName": "Matthieu Le Cauchois",
      "photoUrl": "https://lh3.googleusercontent.com/a-/AOh14GgY9gRlHHK-FHlINeRnTJw_wewJsr639GH8MAWl=s64",
      "userId": "10992927378504656501"
     },
     "user_tz": -60
    },
    "id": "6GyY0wE-QBOj",
    "outputId": "9a5e9011-e024-4a65-8383-83c062cdcad9",
    "scrolled": false
   },
   "outputs": [
    {
     "name": "stdout",
     "output_type": "stream",
     "text": [
      "Total cumulative reward: -445.76922706672747\n"
     ]
    }
   ],
   "source": [
    "# Test paramaters\n",
    "env_name = 'gyroscoperobustenv-v0'\n",
    "reward_type = 'Normalized'\n",
    "reward_args = {'k': 0.05, 'qx2' : 0, 'qx4' : 0, 'pu1':0,'pu2':0}\n",
    "seed = 0\n",
    "agent_path = 'linearized controller'\n",
    "init_state = [0,0,20*np.pi/180,0,0,20*np.pi/180,200*2*np.pi/60]\n",
    "ep_len = 400\n",
    "t_end = ep_len*0.05\n",
    "x1_ref_seq = np.append(np.full(100,0),np.full(300,60*np.pi/180))\n",
    "x3_ref_seq = np.append(np.full(100,20*np.pi/180),np.full(300,20*np.pi/180))\n",
    "param =  {'Jbx1':1.25*Jbx1,'Jbx2':1.25*Jbx2,'Jbx3':1.25*Jbx3,'Jrx1':1.25*Jrx1,'Jdx1':1.25*Jdx1,'Jdx3':1.25*Jdx3,'fvr':0.0027,'fcr':0.02,'fvb':0.0053,'fcb':0.007}\n",
    "\n",
    "# Perform testing\n",
    "r,score,x1_eval_lin_r,x2_eval,x3_eval_lin_r,x4_eval,x1_ref_eval_lin_r,x3_ref_eval_lin_r,act = test_agent(env_name,reward_type,reward_args,seed,agent_path,init_state,t_end,ep_len,x1_ref_seq,x3_ref_seq,param=param, is_noise=False)"
   ]
  },
  {
   "cell_type": "markdown",
   "metadata": {},
   "source": [
    "#### RL not robustified"
   ]
  },
  {
   "cell_type": "code",
   "execution_count": 60,
   "metadata": {},
   "outputs": [
    {
     "name": "stdout",
     "output_type": "stream",
     "text": [
      "Total cumulative reward: -154.54557711423323\n"
     ]
    }
   ],
   "source": [
    "# Test paramaters\n",
    "env_name = 'gyroscopeenv-v0'\n",
    "reward_type = 'Normalized'\n",
    "reward_args = {'k': 0.05, 'qx2' : 0, 'qx4' : 0, 'pu1':0,'pu2':0}\n",
    "seed = 0\n",
    "agent_path ='td3_n_it2_an_var1_extralay_extralay_s0/'\n",
    "init_state = [0,0,20*np.pi/180,0,0,20*np.pi/180,200*2*np.pi/60]\n",
    "ep_len = 400\n",
    "t_end = ep_len*0.05\n",
    "x1_ref_seq = np.append(np.full(100,0),np.full(300,60*np.pi/180))\n",
    "x3_ref_seq = np.append(np.full(100,20*np.pi/180),np.full(300,20*np.pi/180))\n",
    "\n",
    "# Perform testing\n",
    "r,score,x1_eval_td3,x2_eval,x3_eval_td3,x4_eval,x1_ref_eval_td3,x3_ref_eval_td3,act = test_agent(env_name,reward_type,reward_args,seed,agent_path,init_state,t_end,ep_len,x1_ref_seq,x3_ref_seq)"
   ]
  },
  {
   "cell_type": "code",
   "execution_count": 24,
   "metadata": {
    "scrolled": true
   },
   "outputs": [
    {
     "name": "stdout",
     "output_type": "stream",
     "text": [
      "Total cumulative reward: -121.59736482412102\n"
     ]
    }
   ],
   "source": [
    "# Test paramaters\n",
    "env_name = 'gyroscoperobustenv-v0'\n",
    "reward_type = 'Normalized'\n",
    "reward_args = {'k': 0.05, 'qx2' : 0, 'qx4' : 0, 'pu1':0,'pu2':0}\n",
    "seed = 0\n",
    "agent_path ='td3_n_it2_an_var1_extralay_extralay_s0/'\n",
    "init_state = [0,0,20*np.pi/180,0,0,20*np.pi/180,200*2*np.pi/60]\n",
    "ep_len = 400\n",
    "t_end = ep_len*0.05\n",
    "x1_ref_seq = np.append(np.full(100,0),np.full(300,60*np.pi/180))\n",
    "x3_ref_seq = np.append(np.full(100,20*np.pi/180),np.full(300,20*np.pi/180))\n",
    "\n",
    "\n",
    "# Perform testing\n",
    "r,score,x1_eval_td3_r,x2_eval,x3_eval_td3_r,x4_eval,x1_ref_eval_td3_r,x3_ref_eval_td3_r,act_td3_r = test_agent(env_name,reward_type,reward_args,seed,agent_path,init_state,t_end,ep_len,x1_ref_seq,x3_ref_seq,param=param, is_noise=False)"
   ]
  },
  {
   "cell_type": "markdown",
   "metadata": {},
   "source": [
    "#### RL robustified"
   ]
  },
  {
   "cell_type": "code",
   "execution_count": 10,
   "metadata": {},
   "outputs": [
    {
     "name": "stdout",
     "output_type": "stream",
     "text": [
      "Total cumulative reward: -124.00360686992225\n"
     ]
    }
   ],
   "source": [
    "# Test paramaters\n",
    "env_name = 'gyroscoperobustenv-v0'\n",
    "reward_type = 'Normalized'\n",
    "reward_args = {'k': 0.05, 'qx2' : 0, 'qx4' : 0, 'pu1':0,'pu2':0}\n",
    "seed = 0\n",
    "agent_path ='best_agent_robustified/'\n",
    "init_state = [0,0,20*np.pi/180,0,0,20*np.pi/180,200*2*np.pi/60]\n",
    "ep_len = 400\n",
    "t_end = ep_len*0.05\n",
    "x1_ref_seq = np.append(np.full(100,0),np.full(300,60*np.pi/180))\n",
    "x3_ref_seq = np.append(np.full(100,20*np.pi/180),np.full(300,20*np.pi/180))\n",
    "\n",
    "# Perform testing\n",
    "r,score,x1_eval_rob_r,x2_eval,x3_eval_rob_r,x4_eval,x1_ref_eval_rob_r,x3_ref_eval_rob_r,act_rob_r = test_agent(env_name,reward_type,reward_args,seed,agent_path,init_state,t_end,ep_len,x1_ref_seq,x3_ref_seq,param=param, is_noise=False)"
   ]
  },
  {
   "cell_type": "markdown",
   "metadata": {},
   "source": [
    "#### Plot"
   ]
  },
  {
   "cell_type": "code",
   "execution_count": 16,
   "metadata": {
    "scrolled": true
   },
   "outputs": [
    {
     "data": {
      "image/png": "[encoded data removed]",
      "text/plain": [
       "<Figure size 720x504 with 1 Axes>"
      ]
     },
     "metadata": {
      "needs_background": "light"
     },
     "output_type": "display_data"
    }
   ],
   "source": [
    "\"\"\"import matplotlib as matplt\n",
    "matplt.use(\"pgf\")\n",
    "matplt.rcParams.update({\n",
    "    \"pgf.texsystem\": \"pdflatex\",\n",
    "    'font.family': 'serif',\n",
    "    'text.usetex': True,\n",
    "    'pgf.rcfonts': False,\n",
    "})\"\"\"\n",
    "\n",
    "time = np.linspace(0, t_end, len(x1_eval_td3))\n",
    "\n",
    "plt.figure(figsize=(10,7))\n",
    "plt.title(r'',fontsize=20, y=1.05)\n",
    "plt.xlabel('Time [s]',fontsize=16)\n",
    "plt.ylabel('Angular position [°]',fontsize=16)\n",
    "plt.ylim([-20,100])\n",
    "plt.xlim([0,20])\n",
    "plt.grid()\n",
    "\n",
    "# Theta\n",
    "plt.plot(time,180*(x1_eval_lin_r)/np.pi,'r-',label=r'$\\theta$ FL on robust env.')\n",
    "plt.plot(time,180*(x1_eval_lin)/np.pi,'r-',label=r'$\\theta$ FL',linestyle='dashed')\n",
    "\n",
    "# Phi\n",
    "plt.plot(time,180*(x3_eval_lin_r)/np.pi,'b-',label=r'$\\phi$ FL on robust env.')\n",
    "plt.plot(time,180*(x3_eval_lin)/np.pi,'b-',label=r'$\\phi$ FL',linestyle='dashed')\n",
    "\n",
    "# Reference\n",
    "plt.plot(time, 180*x1_ref_eval_td3_r/np.pi, color='black',label=r'Reference on $\\theta$')\n",
    "\n",
    "plt.legend()\n",
    "plt.savefig('robcomp1.pgf')"
   ]
  },
  {
   "cell_type": "code",
   "execution_count": 17,
   "metadata": {},
   "outputs": [
    {
     "data": {
      "image/png": "[encoded data removed]",
      "text/plain": [
       "<Figure size 720x504 with 1 Axes>"
      ]
     },
     "metadata": {
      "needs_background": "light"
     },
     "output_type": "display_data"
    }
   ],
   "source": [
    "\"\"\"import matplotlib as matplt\n",
    "matplt.use(\"pgf\")\n",
    "matplt.rcParams.update({\n",
    "    \"pgf.texsystem\": \"pdflatex\",\n",
    "    'font.family': 'serif',\n",
    "    'text.usetex': True,\n",
    "    'pgf.rcfonts': False,\n",
    "})\"\"\"\n",
    "\n",
    "time = np.linspace(0, t_end, len(x1_eval_td3))\n",
    "\n",
    "plt.figure(figsize=(10,7))\n",
    "plt.title(r'',fontsize=20, y=1.05)\n",
    "plt.xlabel('Time [s]',fontsize=16)\n",
    "plt.ylabel('Angular position [°]',fontsize=16)\n",
    "plt.ylim([-20,100])\n",
    "plt.xlim([0,20])\n",
    "plt.grid()\n",
    "\n",
    "# Theta\n",
    "plt.plot(time,180*(x1_eval_td3_r)/np.pi,'r-',label=r'$\\theta$ RL on robust env.')\n",
    "plt.plot(time,180*(x1_eval_td3)/np.pi,'r-',label=r'$\\theta$ RL',linestyle='dashed')\n",
    "\n",
    "# Phi\n",
    "plt.plot(time,180*(x3_eval_td3_r)/np.pi,'b-',label=r'$\\phi$ RL on robust env.')\n",
    "plt.plot(time,180*(x3_eval_td3)/np.pi,'b-',label=r'$\\phi$ RL',linestyle='dashed')\n",
    "\n",
    "# Reference\n",
    "plt.plot(time, 180*x1_ref_eval_td3_r/np.pi, color='black',label=r'Reference on $\\theta$')\n",
    "\n",
    "plt.legend(loc = (0.677,0))\n",
    "plt.savefig('robcomp2.pgf')"
   ]
  },
  {
   "cell_type": "markdown",
   "metadata": {
    "colab_type": "text",
    "id": "Gn3Gp40bcOVz"
   },
   "source": [
    "## Adaptability test"
   ]
  },
  {
   "cell_type": "code",
   "execution_count": 21,
   "metadata": {},
   "outputs": [],
   "source": [
    "param =  {'Jbx1':1.25*Jbx1,'Jbx2':1.25*Jbx2,'Jbx3':1.25*Jbx3,'Jrx1':1.25*Jrx1,'Jdx1':1.25*Jdx1,'Jdx3':1.25*Jdx3,'fvr':0.0027,'fcr':0.0,'fvb':0.0053,'fcb':0.00}"
   ]
  },
  {
   "cell_type": "code",
   "execution_count": 49,
   "metadata": {
    "scrolled": true
   },
   "outputs": [
    {
     "name": "stdout",
     "output_type": "stream",
     "text": [
      "Total cumulative reward: -154.01864793766202\n"
     ]
    }
   ],
   "source": [
    "# Test paramaters\n",
    "env_name = 'gyroscoperobustenv-v0'\n",
    "reward_type = 'Normalized'\n",
    "reward_args = {'k': 0.05, 'qx2' : 0, 'qx4' : 0, 'pu1':0,'pu2':0}\n",
    "seed = 0\n",
    "agent_path = 'best_agent_robustified/'\n",
    "init_state = [0,0,20*np.pi/180,0,0,20*np.pi/180,200*2*np.pi/60]\n",
    "ep_len = 400\n",
    "t_end = ep_len*0.05\n",
    "x1_ref_seq = np.append(np.full(100,0),np.full(300,60*np.pi/180))\n",
    "x3_ref_seq = np.append(np.full(100,20*np.pi/180),np.full(300,20*np.pi/180))\n",
    "f = 0.05\n",
    "w_seq = np.full(400,200*2*np.pi/60)+(200*2*np.pi/60)*0.25*np.sin(2*np.pi*f*np.linspace(0,t_end,ep_len))\n",
    "\n",
    "# Perform testing\n",
    "r,score,x1_eval_rob_w1,x2_eval,x3_eval_rob_w1,x4_eval,x1_ref_eval_rob_w1,x3_ref_eval_rob_w1,act = test_agent(env_name,reward_type,reward_args,seed,agent_path,init_state,t_end,ep_len,x1_ref_seq,x3_ref_seq,w_seq=w_seq,param=param, is_noise=False)"
   ]
  },
  {
   "cell_type": "code",
   "execution_count": 50,
   "metadata": {},
   "outputs": [
    {
     "name": "stdout",
     "output_type": "stream",
     "text": [
      "Total cumulative reward: -149.02077199329466\n"
     ]
    }
   ],
   "source": [
    "# Test paramaters\n",
    "env_name = 'gyroscoperobustenv-v0'\n",
    "reward_type = 'Normalized'\n",
    "reward_args = {'k': 0.05, 'qx2' : 0, 'qx4' : 0, 'pu1':0,'pu2':0}\n",
    "seed = 0\n",
    "agent_path = 'best_agent_robustified/'\n",
    "init_state = [0,0,20*np.pi/180,0,0,20*np.pi/180,200*2*np.pi/60]\n",
    "ep_len = 400\n",
    "t_end = ep_len*0.05\n",
    "x1_ref_seq = np.append(np.full(100,0),np.full(300,60*np.pi/180))\n",
    "x3_ref_seq = np.append(np.full(100,20*np.pi/180),np.full(300,20*np.pi/180))\n",
    "f = 0.5\n",
    "w_seq = np.full(400,200*2*np.pi/60)+(200*2*np.pi/60)*0.25*np.sin(2*np.pi*f*np.linspace(0,t_end,ep_len))\n",
    "\n",
    "# Perform testing\n",
    "r,score,x1_eval_rob_w2,x2_eval,x3_eval_rob_w2,x4_eval,x1_ref_eval_rob_w2,x3_ref_eval_rob_w2,act = test_agent(env_name,reward_type,reward_args,seed,agent_path,init_state,t_end,ep_len,x1_ref_seq,x3_ref_seq,w_seq=w_seq,param=param, is_noise=False)"
   ]
  },
  {
   "cell_type": "code",
   "execution_count": 57,
   "metadata": {},
   "outputs": [
    {
     "data": {
      "image/png": "[encoded data removed]",
      "text/plain": [
       "<Figure size 720x504 with 1 Axes>"
      ]
     },
     "metadata": {
      "needs_background": "light"
     },
     "output_type": "display_data"
    }
   ],
   "source": [
    "\"\"\"import matplotlib as matplt\n",
    "matplt.use(\"pgf\")\n",
    "matplt.rcParams.update({\n",
    "    \"pgf.texsystem\": \"pdflatex\",\n",
    "    'font.family': 'serif',\n",
    "    'text.usetex': True,\n",
    "    'pgf.rcfonts': False,\n",
    "})\n",
    "\"\"\"\n",
    "time = np.linspace(0, t_end, len(x1_eval_td3))\n",
    "\n",
    "plt.figure(figsize=(10,7))\n",
    "plt.title(r'',fontsize=20, y=1.05)\n",
    "plt.xlabel('Time [s]',fontsize=16)\n",
    "plt.ylabel('Angular position [°]',fontsize=16)\n",
    "plt.ylim([-20,100])\n",
    "plt.xlim([0,20])\n",
    "plt.grid()\n",
    "\n",
    "# Theta\n",
    "plt.plot(time,180*(x1_eval_rob_w1)/np.pi,'r',label=r'$\\theta$ robust RL with $f=\\frac{1}{20}$ Hz')\n",
    "plt.plot(time,180*(x1_eval_rob_w2)/np.pi,'r',label=r'$\\theta$ robust RL with $f=\\frac{1}{2}$ Hz',linestyle='dashed')\n",
    "#plt.plot(time,180*(x1_eval_rob_w3)/np.pi,'r',label=r'$\\theta$ robust RL',linestyle='dashdot')\n",
    "\n",
    "\n",
    "# Phi\n",
    "plt.plot(time,180*(x3_eval_rob_w1)/np.pi,'b-',label=r'$\\phi$ robust RL with $f=\\frac{1}{20}$ Hz')\n",
    "plt.plot(time,180*(x3_eval_rob_w2)/np.pi,'b-',label=r'$\\phi$ robust RL with $f=\\frac{1}{2}$ Hz',linestyle='dashed')\n",
    "#plt.plot(time,180*(x3_eval_rob_w3)/np.pi,'b-',label=r'$\\phi$ robust RL',linestyle='dashdot')\n",
    "\n",
    "\n",
    "\n",
    "\n",
    "# Reference\n",
    "plt.plot(time, 180*x1_ref_eval_rob_w/np.pi, color='black',label=r'Reference on $\\theta$')\n",
    "\n",
    "plt.legend(loc = (0.677,0))\n",
    "plt.savefig('adapcomp.pgf')"
   ]
  },
  {
   "cell_type": "code",
   "execution_count": null,
   "metadata": {},
   "outputs": [],
   "source": []
  },
  {
   "cell_type": "code",
   "execution_count": null,
   "metadata": {},
   "outputs": [],
   "source": []
  }
 ],
 "metadata": {
  "accelerator": "GPU",
  "colab": {
   "collapsed_sections": [],
   "name": "gyroscope_ddpg_testing.ipynb",
   "provenance": []
  },
  "kernelspec": {
   "display_name": "drlgyroenv",
   "language": "python",
   "name": "drlgyroenv"
  },
  "language_info": {
   "codemirror_mode": {
    "name": "ipython",
    "version": 3
   },
   "file_extension": ".py",
   "mimetype": "text/x-python",
   "name": "python",
   "nbconvert_exporter": "python",
   "pygments_lexer": "ipython3",
   "version": "3.6.9"
  }
 },
 "nbformat": 4,
 "nbformat_minor": 1
}
