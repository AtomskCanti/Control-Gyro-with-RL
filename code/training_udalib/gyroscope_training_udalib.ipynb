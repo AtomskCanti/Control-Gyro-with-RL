{
 "cells": [
  {
   "cell_type": "markdown",
   "metadata": {
    "colab_type": "text",
    "id": "x83dMPapQBN6"
   },
   "source": [
    "# Gyroscope DDPG training (udacity library)"
   ]
  },
  {
   "cell_type": "code",
   "execution_count": null,
   "metadata": {
    "colab": {},
    "colab_type": "code",
    "id": "8inmkEG5QHqx"
   },
   "outputs": [],
   "source": [
    "from google.colab import drive\n",
    "drive.mount('/content/drive')"
   ]
  },
  {
   "cell_type": "code",
   "execution_count": null,
   "metadata": {
    "colab": {
     "base_uri": "https://localhost:8080/",
     "height": 35
    },
    "colab_type": "code",
    "executionInfo": {
     "elapsed": 655,
     "status": "ok",
     "timestamp": 1584030129316,
     "user": {
      "displayName": "Matthieu Le Cauchois",
      "photoUrl": "https://lh3.googleusercontent.com/a-/AOh14GgY9gRlHHK-FHlINeRnTJw_wewJsr639GH8MAWl=s64",
      "userId": "10992927378504656501"
     },
     "user_tz": -60
    },
    "id": "DnnJGcnsQvZC",
    "outputId": "9d6d1408-da29-44ed-af74-4ebdc2bd865a"
   },
   "outputs": [
    {
     "name": "stdout",
     "output_type": "stream",
     "text": [
      "/content/drive/My Drive/Colab Notebooks/DDPG_uda_v0\n"
     ]
    }
   ],
   "source": [
    "cd drive/My\\ Drive/Colab Notebooks/DDPG_uda_v0/"
   ]
  },
  {
   "cell_type": "code",
   "execution_count": 1,
   "metadata": {
    "colab": {},
    "colab_type": "code",
    "id": "fuJhdd479TpP"
   },
   "outputs": [
    {
     "ename": "ModuleNotFoundError",
     "evalue": "No module named 'torch'",
     "output_type": "error",
     "traceback": [
      "\u001b[0;31m---------------------------------------------------------------------------\u001b[0m",
      "\u001b[0;31mModuleNotFoundError\u001b[0m                       Traceback (most recent call last)",
      "\u001b[0;32m<ipython-input-1-d1dc844787f6>\u001b[0m in \u001b[0;36m<module>\u001b[0;34m\u001b[0m\n\u001b[1;32m      5\u001b[0m \u001b[0;32mfrom\u001b[0m \u001b[0mscipy\u001b[0m\u001b[0;34m.\u001b[0m\u001b[0mintegrate\u001b[0m \u001b[0;32mimport\u001b[0m \u001b[0msolve_ivp\u001b[0m\u001b[0;34m\u001b[0m\u001b[0;34m\u001b[0m\u001b[0m\n\u001b[1;32m      6\u001b[0m \u001b[0;32mimport\u001b[0m \u001b[0mrandom\u001b[0m\u001b[0;34m\u001b[0m\u001b[0;34m\u001b[0m\u001b[0m\n\u001b[0;32m----> 7\u001b[0;31m \u001b[0;32mimport\u001b[0m \u001b[0mtorch\u001b[0m\u001b[0;34m\u001b[0m\u001b[0;34m\u001b[0m\u001b[0m\n\u001b[0m\u001b[1;32m      8\u001b[0m \u001b[0;32mimport\u001b[0m \u001b[0mnumpy\u001b[0m \u001b[0;32mas\u001b[0m \u001b[0mnp\u001b[0m\u001b[0;34m\u001b[0m\u001b[0;34m\u001b[0m\u001b[0m\n\u001b[1;32m      9\u001b[0m \u001b[0;32mfrom\u001b[0m \u001b[0mcollections\u001b[0m \u001b[0;32mimport\u001b[0m \u001b[0mdeque\u001b[0m\u001b[0;34m\u001b[0m\u001b[0;34m\u001b[0m\u001b[0m\n",
      "\u001b[0;31mModuleNotFoundError\u001b[0m: No module named 'torch'"
     ]
    }
   ],
   "source": [
    "import gym\n",
    "from gym import spaces\n",
    "from gym.utils import seeding\n",
    "from os import path\n",
    "from scipy.integrate import solve_ivp\n",
    "import random\n",
    "import torch\n",
    "import numpy as np\n",
    "from collections import deque\n",
    "import matplotlib.pyplot as plt\n",
    "%matplotlib inline\n",
    "\n",
    "\n",
    "\n",
    "#from vpython import *\n",
    "from ddpg_agent import Agent"
   ]
  },
  {
   "cell_type": "markdown",
   "metadata": {
    "colab_type": "text",
    "id": "O0O0t5ZR9Tp6"
   },
   "source": [
    "## Environment Class and Modules"
   ]
  },
  {
   "cell_type": "code",
   "execution_count": null,
   "metadata": {
    "colab": {},
    "colab_type": "code",
    "id": "Al_k1rtvQBOM"
   },
   "outputs": [],
   "source": [
    "class GyroscopeEnv(gym.Env):\n",
    "    \n",
    "    \n",
    "    \"\"\"\n",
    "    GyroscopeEnv is a double gimbal control moment gyroscope (DGCMG) with 2 input voltage u1 and u2 \n",
    "    on the two gimbals, and disk speed assumed constant (parameter w). Simulation is based on the \n",
    "    Quanser 3-DOF gyroscope setup.\n",
    "    \n",
    "    \n",
    "    **STATE:**\n",
    "    The state consists of the angle and angular speed of the outer red gimbal (theta = x1, thetadot = x2),\n",
    "    the angle and angular speed of the inner blue gimbal (phi = x3, phidot = x4), the difference to the reference\n",
    "    for tracking on theta and phi (tracking error theta = diff_x1, tracking error phi = diff_x3), and the \n",
    "    disk speed (disk speed = w):\n",
    "    \n",
    "    state = [x1, x2, x3, x4, diff_x1, diff_x3, w]\n",
    "    \n",
    "    **ACTIONS:**\n",
    "    The actions are the input voltage to create the red and blue gimbal torque (red voltage = u1, blue voltage = u2),\n",
    "    and are continuous in a range of -10 and 10V:\n",
    "    \n",
    "    action = [u1,u2]\n",
    "    \n",
    "    \"\"\"\n",
    "    \n",
    "    \n",
    "    metadata = {\n",
    "        'render.modes' : ['human', 'rgb_array'],\n",
    "        'video.frames_per_second' : 30\n",
    "    }\n",
    "\n",
    "    def __init__(self, dt):\n",
    "        \n",
    "        # Inertias in Kg*m2\n",
    "        self.Jbx1 = 0.0019\n",
    "        self.Jbx2 = 0.0008\n",
    "        self.Jbx3 = 0.0012\n",
    "        self.Jrx1 = 0.0179\n",
    "        self.Jdx1 = 0.0028\n",
    "        self.Jdx3 = 0.0056\n",
    "        \n",
    "        # Combined inertias\n",
    "        self.J1 = self.Jbx1 - self.Jbx3 + self.Jdx1 - self.Jdx3\n",
    "        self.J2 = self.Jbx1 + self.Jdx1 + self.Jrx1\n",
    "        self.J3 = self.Jbx2 + self.Jdx1\n",
    "\n",
    "        # Motor constants\n",
    "        self.Kamp = 0.5 # A/V\n",
    "        self.Ktorque = 0.0704 # Nm/A\n",
    "        self.eff = 0.86\n",
    "        self.nRed = 1.5\n",
    "        self.nBlue = 1\n",
    "        self.KtotRed = self.Kamp*self.Ktorque*self.eff*self.nRed \n",
    "        self.KtotBlue = self.Kamp*self.Ktorque*self.eff*self.nBlue \n",
    "        \n",
    "        # Time step in s\n",
    "        self.dt = dt\n",
    "        \n",
    "        # Action space\n",
    "        self.maxVoltage = 10 # V\n",
    "        self.highAct = np.array([self.maxVoltage,self.maxVoltage])\n",
    "        self.action_space =  spaces.Box(low = -self.highAct, high = self.highAct, dtype=np.float32) \n",
    "        \n",
    "        # Observation space (here it is equal to state space)\n",
    "        self.maxSpeed = 40 * 2 * np.pi / 60\n",
    "        self.maxAngle = np.pi\n",
    "        self.maxdiskSpeed = 300 * 2 * np.pi / 60\n",
    "        self.highObs = np.array([self.maxAngle,self.maxSpeed,self.maxAngle,self.maxSpeed,self.maxAngle,self.maxAngle,self.maxdiskSpeed])\n",
    "        self.observation_space = spaces.Box(low = -self.highObs, high = self.highObs, dtype=np.float32)\n",
    "\n",
    "        # Seed for random number generation\n",
    "        self.seed()\n",
    "        \n",
    "        self.viewer = None\n",
    "\n",
    "    def seed(self, seed=None):\n",
    "        self.np_random, seed = seeding.np_random(seed)\n",
    "        return [seed]\n",
    "    \n",
    "    \n",
    "\n",
    "    def step(self,u):\n",
    "        x1, x2, x3, x4, x1_ref, x3_ref, w= self.state \n",
    "        u1,u2 = u\n",
    "      \n",
    "        # Option 1 for reward:\n",
    "        reward = 0.5*(angle_normalize(x1 - x1_ref)**2 + angle_normalize(x3 - x3_ref)**2) #+ .001*(x2**2) + .001*(x4**2) + .001*(u1**2) + .001*(u2**2)\n",
    "\n",
    "        # Option 2 for reward:\n",
    "       \n",
    "        \"\"\"if diff_x1**2<0.01 and diff_x3**2<0.01:\n",
    "            reward = 0\n",
    "        else:\n",
    "            reward = 1\"\"\"\n",
    "\n",
    "\n",
    "        results = solve_ivp(fun = dxdt, t_span = (0, self.dt), y0 = [x1,x2,x3,x4], method='RK45', args=(u1,u2,self))\n",
    " \n",
    "        x1 = angle_normalize(results.y[0][-1])\n",
    "        x2 = np.clip(results.y[1][-1],-self.maxSpeed,self.maxSpeed)\n",
    "        x3 = angle_normalize(results.y[2][-1])\n",
    "        x4 = np.clip(results.y[3][-1],-self.maxSpeed,self.maxSpeed)\n",
    "        \n",
    "        self.state = np.asarray([x1,x2,x3,x4,x1_ref, x3_ref,w])\n",
    "\n",
    "        return (self.state, -reward, False, {})\n",
    "\n",
    "    def reset(self, state = None):\n",
    "        \n",
    "        \n",
    "        # Generate random state (for training) or use given state (for simulation)\n",
    "        if state is None:\n",
    "            self.state = self.np_random.uniform(low=-self.highObs, high=self.highObs)\n",
    "        else:\n",
    "            self.state = state\n",
    "            \n",
    "        return self.state\n",
    "\n",
    "\n",
    "    def render(self, mode='human'):\n",
    "        return None\n",
    "    \n",
    "    def close(self):\n",
    "        if self.viewer:\n",
    "            self.viewer.close()\n",
    "            self.viewer = None\n",
    "            \n",
    "def dxdt(t, x, u1, u2, gyro):\n",
    "        \n",
    "        # Rewrite constants shorter\n",
    "        J1 = gyro.J1\n",
    "        J2 = gyro.J2\n",
    "        J3 = gyro.J3\n",
    "        Jdx3 = gyro.Jdx3\n",
    "        KtotRed = gyro.KtotRed\n",
    "        KtotBlue = gyro.KtotBlue\n",
    "        w = x[-1]\n",
    "\n",
    "        # Convert input voltage to input torque\n",
    "        u1,u2 = KtotRed*u1, KtotBlue*u2\n",
    "        \n",
    "        # Equations of motion \n",
    "        dx_dt = [0, 0, 0, 0]\n",
    "        dx_dt[0] = x[1]\n",
    "        dx_dt[1] = (u1+J1*np.sin(2*x[2])*x[1]*x[3]-Jdx3*np.cos(x[2])*x[3]*w)/(J2 + J1*np.power(np.sin(x[2]),2))\n",
    "        dx_dt[2] = x[3]\n",
    "        dx_dt[3] = (u2 - J1*np.cos(x[2])*np.sin(x[2])*np.power(x[1],2)+Jdx3*np.cos(x[2])*x[1]*w)/J3\n",
    "        return dx_dt\n",
    "    \n",
    "def angle_normalize(x):\n",
    "        return (((x+np.pi) % (2*np.pi)) - np.pi) # To keep the angles between -pi and pi\n"
   ]
  },
  {
   "cell_type": "markdown",
   "metadata": {
    "colab_type": "text",
    "id": "2YB2o73h9TrC"
   },
   "source": [
    "## DDPG run"
   ]
  },
  {
   "cell_type": "code",
   "execution_count": null,
   "metadata": {
    "colab": {},
    "colab_type": "code",
    "id": "uo5HKwz29TrF"
   },
   "outputs": [],
   "source": [
    "def ddpg(n_episodes=5000, max_t=250, print_every=100):\n",
    "    scores_deque = deque(maxlen=print_every)\n",
    "    scores = []\n",
    "    for i_episode in range(1, n_episodes+1):\n",
    "        state = env.reset(None)\n",
    "        agent.reset()\n",
    "        score = 0\n",
    "        for t in range(max_t):\n",
    "            action = agent.act(state)\n",
    "            next_state, reward, done, _ = env.step(action)\n",
    "            agent.step(state, action, reward, next_state, done)\n",
    "            state = next_state\n",
    "            score += reward\n",
    "            if done:\n",
    "                break \n",
    "        scores_deque.append(score)\n",
    "        scores.append(score)\n",
    "        print('\\rEpisode {}\\tScore: {:.2f}'.format(i_episode, score), end=\"\")\n",
    "        torch.save(agent.actor_local.state_dict(), 'checkpoint_actor.pth')\n",
    "        torch.save(agent.critic_local.state_dict(), 'checkpoint_critic.pth')\n",
    "        torch.save(agent.actor_optimizer.state_dict(), 'checkpoint_actor_opt.pth')\n",
    "        torch.save(agent.critic_optimizer.state_dict(), 'checkpoint_critic_opt.pth')\n",
    "        if i_episode % print_every == 0:\n",
    "            print('\\rEpisode {}\\tAverage Score: {:.2f}'.format(i_episode, np.mean(scores_deque)))\n",
    "            \n",
    "    return scores\n"
   ]
  },
  {
   "cell_type": "markdown",
   "metadata": {
    "colab_type": "text",
    "id": "be0wYIeBQBOc"
   },
   "source": [
    "## Training"
   ]
  },
  {
   "cell_type": "code",
   "execution_count": null,
   "metadata": {
    "colab": {
     "base_uri": "https://localhost:8080/",
     "height": 533
    },
    "colab_type": "code",
    "executionInfo": {
     "elapsed": 654004,
     "status": "error",
     "timestamp": 1584037207187,
     "user": {
      "displayName": "Matthieu Le Cauchois",
      "photoUrl": "https://lh3.googleusercontent.com/a-/AOh14GgY9gRlHHK-FHlINeRnTJw_wewJsr639GH8MAWl=s64",
      "userId": "10992927378504656501"
     },
     "user_tz": -60
    },
    "id": "fLyFHs0yQBOd",
    "outputId": "260489ff-5e40-416a-e529-5a0cfcaefceb"
   },
   "outputs": [
    {
     "name": "stderr",
     "output_type": "stream",
     "text": [
      "/usr/local/lib/python3.6/dist-packages/gym/logger.py:30: UserWarning: \u001b[33mWARN: Box bound precision lowered by casting to float32\u001b[0m\n",
      "  warnings.warn(colorize('%s: %s'%('WARN', msg % args), 'yellow'))\n",
      "/usr/local/lib/python3.6/dist-packages/torch/nn/functional.py:1340: UserWarning: nn.functional.tanh is deprecated. Use torch.tanh instead.\n",
      "  warnings.warn(\"nn.functional.tanh is deprecated. Use torch.tanh instead.\")\n"
     ]
    },
    {
     "name": "stdout",
     "output_type": "stream",
     "text": [
      "Episode 100\tAverage Score: -2418.53\n",
      "Episode 200\tAverage Score: -1813.93\n",
      "Episode 300\tAverage Score: -1814.60\n",
      "Episode 341\tScore: -1640.05"
     ]
    },
    {
     "ename": "KeyboardInterrupt",
     "evalue": "ignored",
     "output_type": "error",
     "traceback": [
      "\u001b[0;31m---------------------------------------------------------------------------\u001b[0m",
      "\u001b[0;31mKeyboardInterrupt\u001b[0m                         Traceback (most recent call last)",
      "\u001b[0;32m<ipython-input-53-e407b799b307>\u001b[0m in \u001b[0;36m<module>\u001b[0;34m()\u001b[0m\n\u001b[1;32m     18\u001b[0m agent.critic_optimizer.load_state_dict(checkpoint_critic_optimizer)\"\"\"\n\u001b[1;32m     19\u001b[0m \u001b[0;34m\u001b[0m\u001b[0m\n\u001b[0;32m---> 20\u001b[0;31m \u001b[0mscores\u001b[0m \u001b[0;34m=\u001b[0m \u001b[0mddpg\u001b[0m\u001b[0;34m(\u001b[0m\u001b[0;34m)\u001b[0m\u001b[0;34m\u001b[0m\u001b[0;34m\u001b[0m\u001b[0m\n\u001b[0m\u001b[1;32m     21\u001b[0m \u001b[0;34m\u001b[0m\u001b[0m\n\u001b[1;32m     22\u001b[0m \u001b[0mfig\u001b[0m \u001b[0;34m=\u001b[0m \u001b[0mplt\u001b[0m\u001b[0;34m.\u001b[0m\u001b[0mfigure\u001b[0m\u001b[0;34m(\u001b[0m\u001b[0;34m)\u001b[0m\u001b[0;34m\u001b[0m\u001b[0;34m\u001b[0m\u001b[0m\n",
      "\u001b[0;32m<ipython-input-52-dcf8a51d0fa2>\u001b[0m in \u001b[0;36mddpg\u001b[0;34m(n_episodes, max_t, print_every)\u001b[0m\n\u001b[1;32m      9\u001b[0m             \u001b[0maction\u001b[0m \u001b[0;34m=\u001b[0m \u001b[0magent\u001b[0m\u001b[0;34m.\u001b[0m\u001b[0mact\u001b[0m\u001b[0;34m(\u001b[0m\u001b[0mstate\u001b[0m\u001b[0;34m)\u001b[0m\u001b[0;34m\u001b[0m\u001b[0;34m\u001b[0m\u001b[0m\n\u001b[1;32m     10\u001b[0m             \u001b[0mnext_state\u001b[0m\u001b[0;34m,\u001b[0m \u001b[0mreward\u001b[0m\u001b[0;34m,\u001b[0m \u001b[0mdone\u001b[0m\u001b[0;34m,\u001b[0m \u001b[0m_\u001b[0m \u001b[0;34m=\u001b[0m \u001b[0menv\u001b[0m\u001b[0;34m.\u001b[0m\u001b[0mstep\u001b[0m\u001b[0;34m(\u001b[0m\u001b[0maction\u001b[0m\u001b[0;34m)\u001b[0m\u001b[0;34m\u001b[0m\u001b[0;34m\u001b[0m\u001b[0m\n\u001b[0;32m---> 11\u001b[0;31m             \u001b[0magent\u001b[0m\u001b[0;34m.\u001b[0m\u001b[0mstep\u001b[0m\u001b[0;34m(\u001b[0m\u001b[0mstate\u001b[0m\u001b[0;34m,\u001b[0m \u001b[0maction\u001b[0m\u001b[0;34m,\u001b[0m \u001b[0mreward\u001b[0m\u001b[0;34m,\u001b[0m \u001b[0mnext_state\u001b[0m\u001b[0;34m,\u001b[0m \u001b[0mdone\u001b[0m\u001b[0;34m)\u001b[0m\u001b[0;34m\u001b[0m\u001b[0;34m\u001b[0m\u001b[0m\n\u001b[0m\u001b[1;32m     12\u001b[0m             \u001b[0mstate\u001b[0m \u001b[0;34m=\u001b[0m \u001b[0mnext_state\u001b[0m\u001b[0;34m\u001b[0m\u001b[0;34m\u001b[0m\u001b[0m\n\u001b[1;32m     13\u001b[0m             \u001b[0mscore\u001b[0m \u001b[0;34m+=\u001b[0m \u001b[0mreward\u001b[0m\u001b[0;34m\u001b[0m\u001b[0;34m\u001b[0m\u001b[0m\n",
      "\u001b[0;32m/content/drive/My Drive/Colab Notebooks/DDPG_uda_v0/ddpg_agent.py\u001b[0m in \u001b[0;36mstep\u001b[0;34m(self, state, action, reward, next_state, done)\u001b[0m\n\u001b[1;32m     60\u001b[0m         \u001b[0;32mif\u001b[0m \u001b[0mlen\u001b[0m\u001b[0;34m(\u001b[0m\u001b[0mself\u001b[0m\u001b[0;34m.\u001b[0m\u001b[0mmemory\u001b[0m\u001b[0;34m)\u001b[0m \u001b[0;34m>\u001b[0m \u001b[0mBATCH_SIZE\u001b[0m\u001b[0;34m:\u001b[0m\u001b[0;34m\u001b[0m\u001b[0;34m\u001b[0m\u001b[0m\n\u001b[1;32m     61\u001b[0m             \u001b[0mexperiences\u001b[0m \u001b[0;34m=\u001b[0m \u001b[0mself\u001b[0m\u001b[0;34m.\u001b[0m\u001b[0mmemory\u001b[0m\u001b[0;34m.\u001b[0m\u001b[0msample\u001b[0m\u001b[0;34m(\u001b[0m\u001b[0;34m)\u001b[0m\u001b[0;34m\u001b[0m\u001b[0;34m\u001b[0m\u001b[0m\n\u001b[0;32m---> 62\u001b[0;31m             \u001b[0mself\u001b[0m\u001b[0;34m.\u001b[0m\u001b[0mlearn\u001b[0m\u001b[0;34m(\u001b[0m\u001b[0mexperiences\u001b[0m\u001b[0;34m,\u001b[0m \u001b[0mGAMMA\u001b[0m\u001b[0;34m)\u001b[0m\u001b[0;34m\u001b[0m\u001b[0;34m\u001b[0m\u001b[0m\n\u001b[0m\u001b[1;32m     63\u001b[0m \u001b[0;34m\u001b[0m\u001b[0m\n\u001b[1;32m     64\u001b[0m     \u001b[0;32mdef\u001b[0m \u001b[0mact\u001b[0m\u001b[0;34m(\u001b[0m\u001b[0mself\u001b[0m\u001b[0;34m,\u001b[0m \u001b[0mstate\u001b[0m\u001b[0;34m,\u001b[0m \u001b[0madd_noise\u001b[0m\u001b[0;34m=\u001b[0m\u001b[0;32mTrue\u001b[0m\u001b[0;34m)\u001b[0m\u001b[0;34m:\u001b[0m\u001b[0;34m\u001b[0m\u001b[0;34m\u001b[0m\u001b[0m\n",
      "\u001b[0;32m/content/drive/My Drive/Colab Notebooks/DDPG_uda_v0/ddpg_agent.py\u001b[0m in \u001b[0;36mlearn\u001b[0;34m(self, experiences, gamma)\u001b[0m\n\u001b[1;32m    102\u001b[0m         \u001b[0mself\u001b[0m\u001b[0;34m.\u001b[0m\u001b[0mcritic_optimizer\u001b[0m\u001b[0;34m.\u001b[0m\u001b[0mzero_grad\u001b[0m\u001b[0;34m(\u001b[0m\u001b[0;34m)\u001b[0m\u001b[0;34m\u001b[0m\u001b[0;34m\u001b[0m\u001b[0m\n\u001b[1;32m    103\u001b[0m         \u001b[0mcritic_loss\u001b[0m\u001b[0;34m.\u001b[0m\u001b[0mbackward\u001b[0m\u001b[0;34m(\u001b[0m\u001b[0;34m)\u001b[0m\u001b[0;34m\u001b[0m\u001b[0;34m\u001b[0m\u001b[0m\n\u001b[0;32m--> 104\u001b[0;31m         \u001b[0mself\u001b[0m\u001b[0;34m.\u001b[0m\u001b[0mcritic_optimizer\u001b[0m\u001b[0;34m.\u001b[0m\u001b[0mstep\u001b[0m\u001b[0;34m(\u001b[0m\u001b[0;34m)\u001b[0m\u001b[0;34m\u001b[0m\u001b[0;34m\u001b[0m\u001b[0m\n\u001b[0m\u001b[1;32m    105\u001b[0m \u001b[0;34m\u001b[0m\u001b[0m\n\u001b[1;32m    106\u001b[0m         \u001b[0;31m# ---------------------------- update actor ---------------------------- #\u001b[0m\u001b[0;34m\u001b[0m\u001b[0;34m\u001b[0m\u001b[0;34m\u001b[0m\u001b[0m\n",
      "\u001b[0;32m/usr/local/lib/python3.6/dist-packages/torch/optim/adam.py\u001b[0m in \u001b[0;36mstep\u001b[0;34m(self, closure)\u001b[0m\n\u001b[1;32m    101\u001b[0m                     \u001b[0mdenom\u001b[0m \u001b[0;34m=\u001b[0m \u001b[0;34m(\u001b[0m\u001b[0mmax_exp_avg_sq\u001b[0m\u001b[0;34m.\u001b[0m\u001b[0msqrt\u001b[0m\u001b[0;34m(\u001b[0m\u001b[0;34m)\u001b[0m \u001b[0;34m/\u001b[0m \u001b[0mmath\u001b[0m\u001b[0;34m.\u001b[0m\u001b[0msqrt\u001b[0m\u001b[0;34m(\u001b[0m\u001b[0mbias_correction2\u001b[0m\u001b[0;34m)\u001b[0m\u001b[0;34m)\u001b[0m\u001b[0;34m.\u001b[0m\u001b[0madd_\u001b[0m\u001b[0;34m(\u001b[0m\u001b[0mgroup\u001b[0m\u001b[0;34m[\u001b[0m\u001b[0;34m'eps'\u001b[0m\u001b[0;34m]\u001b[0m\u001b[0;34m)\u001b[0m\u001b[0;34m\u001b[0m\u001b[0;34m\u001b[0m\u001b[0m\n\u001b[1;32m    102\u001b[0m                 \u001b[0;32melse\u001b[0m\u001b[0;34m:\u001b[0m\u001b[0;34m\u001b[0m\u001b[0;34m\u001b[0m\u001b[0m\n\u001b[0;32m--> 103\u001b[0;31m                     \u001b[0mdenom\u001b[0m \u001b[0;34m=\u001b[0m \u001b[0;34m(\u001b[0m\u001b[0mexp_avg_sq\u001b[0m\u001b[0;34m.\u001b[0m\u001b[0msqrt\u001b[0m\u001b[0;34m(\u001b[0m\u001b[0;34m)\u001b[0m \u001b[0;34m/\u001b[0m \u001b[0mmath\u001b[0m\u001b[0;34m.\u001b[0m\u001b[0msqrt\u001b[0m\u001b[0;34m(\u001b[0m\u001b[0mbias_correction2\u001b[0m\u001b[0;34m)\u001b[0m\u001b[0;34m)\u001b[0m\u001b[0;34m.\u001b[0m\u001b[0madd_\u001b[0m\u001b[0;34m(\u001b[0m\u001b[0mgroup\u001b[0m\u001b[0;34m[\u001b[0m\u001b[0;34m'eps'\u001b[0m\u001b[0;34m]\u001b[0m\u001b[0;34m)\u001b[0m\u001b[0;34m\u001b[0m\u001b[0;34m\u001b[0m\u001b[0m\n\u001b[0m\u001b[1;32m    104\u001b[0m \u001b[0;34m\u001b[0m\u001b[0m\n\u001b[1;32m    105\u001b[0m                 \u001b[0mstep_size\u001b[0m \u001b[0;34m=\u001b[0m \u001b[0mgroup\u001b[0m\u001b[0;34m[\u001b[0m\u001b[0;34m'lr'\u001b[0m\u001b[0;34m]\u001b[0m \u001b[0;34m/\u001b[0m \u001b[0mbias_correction1\u001b[0m\u001b[0;34m\u001b[0m\u001b[0;34m\u001b[0m\u001b[0m\n",
      "\u001b[0;31mKeyboardInterrupt\u001b[0m: "
     ]
    }
   ],
   "source": [
    "# Creat environment\n",
    "dt = 0.05\n",
    "env = GyroscopeEnv(dt)\n",
    "env.seed(2)\n",
    "\n",
    "# Create agent\n",
    "agent = Agent(state_size=7, action_size=2, random_seed=2)\n",
    "\n",
    "\"\"\"# Access previous checkpoint\n",
    "checkpoint_actor = torch.load('checkpoint_actor.pth')\n",
    "checkpoint_critic = torch.load('checkpoint_critic.pth')\n",
    "checkpoint_actor_optimizer = torch.load('checkpoint_actor_opt.pth')\n",
    "checkpoint_critic_optimizer = torch.load('checkpoint_critic_opt.pth')\n",
    "\n",
    "# Use previous checkpoint\n",
    "agent.actor_local.load_state_dict(checkpoint_actor)\n",
    "agent.critic_local.load_state_dict(checkpoint_critic)\n",
    "agent.actor_optimizer.load_state_dict(checkpoint_actor_optimizer)\n",
    "agent.critic_optimizer.load_state_dict(checkpoint_critic_optimizer)\"\"\"\n",
    "\n",
    "scores = ddpg()\n",
    "\n",
    "fig = plt.figure()\n",
    "ax = fig.add_subplot(111)\n",
    "plt.plot(np.arange(1, len(scores)+1), scores)\n",
    "plt.ylabel('Score')\n",
    "plt.xlabel('Episode #')\n",
    "plt.show()"
   ]
  },
  {
   "cell_type": "markdown",
   "metadata": {
    "colab_type": "text",
    "id": "Gn3Gp40bcOVz"
   },
   "source": [
    "## Test"
   ]
  },
  {
   "cell_type": "code",
   "execution_count": null,
   "metadata": {
    "colab": {
     "base_uri": "https://localhost:8080/",
     "height": 106
    },
    "colab_type": "code",
    "executionInfo": {
     "elapsed": 972,
     "status": "ok",
     "timestamp": 1584036455886,
     "user": {
      "displayName": "Matthieu Le Cauchois",
      "photoUrl": "https://lh3.googleusercontent.com/a-/AOh14GgY9gRlHHK-FHlINeRnTJw_wewJsr639GH8MAWl=s64",
      "userId": "10992927378504656501"
     },
     "user_tz": -60
    },
    "id": "6GyY0wE-QBOj",
    "outputId": "9a5e9011-e024-4a65-8383-83c062cdcad9"
   },
   "outputs": [
    {
     "name": "stderr",
     "output_type": "stream",
     "text": [
      "/usr/local/lib/python3.6/dist-packages/gym/logger.py:30: UserWarning: \u001b[33mWARN: Box bound precision lowered by casting to float32\u001b[0m\n",
      "  warnings.warn(colorize('%s: %s'%('WARN', msg % args), 'yellow'))\n",
      "/usr/local/lib/python3.6/dist-packages/torch/nn/functional.py:1340: UserWarning: nn.functional.tanh is deprecated. Use torch.tanh instead.\n",
      "  warnings.warn(\"nn.functional.tanh is deprecated. Use torch.tanh instead.\")\n"
     ]
    },
    {
     "name": "stdout",
     "output_type": "stream",
     "text": [
      "-84.65790332698876\n"
     ]
    }
   ],
   "source": [
    "# Creat environment\n",
    "dt = 0.05\n",
    "env = GyroscopeEnv(dt)\n",
    "env.seed(2)\n",
    "\n",
    "# Create agent\n",
    "agent = Agent(state_size=7, action_size=2, random_seed=2)\n",
    "agent.actor_local.load_state_dict(torch.load('checkpoint_actor.pth'))\n",
    "agent.critic_local.load_state_dict(torch.load('checkpoint_critic.pth'))\n",
    "\n",
    "# Test parameters\n",
    "x1,x2,x3,x4,x1_ref,x3_ref,w = 2,0,0,0,1,1.22,10\n",
    "state = env.reset(np.array([x1,x2,x3,x4,x1_ref,x3_ref,w]))\n",
    "val = []\n",
    "dt = 0.05\n",
    "time = np.arange(0, 30, dt)\n",
    "score = 0\n",
    "for i in range(len(time)):\n",
    "    val.append(state)\n",
    "    action = agent.act(state, add_noise=False)\n",
    "    state, reward, done, _ = env.step(action)\n",
    "    score += reward\n",
    "    if done:\n",
    "        break \n",
    "\n",
    "env.close()\n",
    "print(score)"
   ]
  },
  {
   "cell_type": "markdown",
   "metadata": {
    "colab_type": "text",
    "id": "vvMjuRHDcfrE"
   },
   "source": [
    "## Plot"
   ]
  },
  {
   "cell_type": "code",
   "execution_count": null,
   "metadata": {
    "colab": {
     "base_uri": "https://localhost:8080/",
     "height": 1000
    },
    "colab_type": "code",
    "executionInfo": {
     "elapsed": 1856,
     "status": "ok",
     "timestamp": 1584036457424,
     "user": {
      "displayName": "Matthieu Le Cauchois",
      "photoUrl": "https://lh3.googleusercontent.com/a-/AOh14GgY9gRlHHK-FHlINeRnTJw_wewJsr639GH8MAWl=s64",
      "userId": "10992927378504656501"
     },
     "user_tz": -60
    },
    "id": "aCZCqujgcMVA",
    "outputId": "05490294-aab8-4933-ca9b-e13ba85ecf6d"
   },
   "outputs": [
    {
     "data": {
      "image/png": "[encoded data removed]",
      "text/plain": [
       "<Figure size 1368x1368 with 6 Axes>"
      ]
     },
     "metadata": {
      "tags": []
     },
     "output_type": "display_data"
    }
   ],
   "source": [
    "f, axs = plt.subplots(3,2,figsize=(19,19))\n",
    "plt.subplot(3,2,1)\n",
    "plt.title('Red gimbal angle',fontsize=20)\n",
    "plt.xlabel('time (s)',fontsize=16)\n",
    "plt.ylabel(r'$\\theta$ (rad)',fontsize=16)\n",
    "plt.grid()\n",
    "plt.plot(time,[row[0] for row in val],'r-')\n",
    "plt.plot(time, [row[4] for row in val], color='black', linestyle='dashed')\n",
    "\n",
    "plt.subplot(3,2,2)\n",
    "plt.title('Red gimbal speed',fontsize=20)\n",
    "plt.xlabel('time (s)',fontsize=16)\n",
    "plt.ylabel(r'$\\dot \\theta$ (rad/s)',fontsize=16)\n",
    "plt.grid()\n",
    "plt.plot(time,[row[1] for row in val],'r-')\n",
    "\n",
    "plt.subplot(3,2,3)\n",
    "plt.title('Blue gimbal angle',fontsize=20)\n",
    "plt.xlabel('time (s)',fontsize=16)\n",
    "plt.ylabel(r'$\\phi$ (rad)',fontsize=16)\n",
    "plt.grid()\n",
    "plt.plot(time,[row[2] for row in val],'b-')\n",
    "plt.plot(time, [row[5] for row in val], color='black', linestyle='dashed')\n",
    "\n",
    "plt.subplot(3,2,4)\n",
    "plt.title('Blue gimbal speed',fontsize=20)\n",
    "plt.xlabel('time (s)',fontsize=16)\n",
    "plt.ylabel(r'$\\dot \\phi$ (rad/s)',fontsize=16)\n",
    "plt.grid()\n",
    "plt.plot(time,[row[3] for row in val],'b-')\n",
    "\n",
    "plt.subplot(3,2,5)\n",
    "plt.title('Red gimbal tracking error',fontsize=20)\n",
    "plt.xlabel('time (s)',fontsize=16)\n",
    "plt.ylabel(r'$\\theta$ error (rad)',fontsize=16)\n",
    "plt.grid()\n",
    "plt.plot(time,[(row[0]- row[4]) for row in val],'r-')\n",
    "\n",
    "plt.subplot(3,2,6)\n",
    "plt.title('Blue gimbal tracking error',fontsize=20)\n",
    "plt.xlabel('time (s)',fontsize=16)\n",
    "plt.ylabel(r'$\\phi$ error (rad)',fontsize=16)\n",
    "plt.grid()\n",
    "plt.plot(time,[(row[2]- row[5]) for row in val],'b-')\n",
    "\n",
    "plt.show()"
   ]
  },
  {
   "cell_type": "markdown",
   "metadata": {
    "colab_type": "text",
    "id": "fz9r-gaStzpk"
   },
   "source": [
    "## 3D rendering"
   ]
  },
  {
   "cell_type": "code",
   "execution_count": null,
   "metadata": {
    "colab": {},
    "colab_type": "code",
    "id": "HQM1E8JYc-cC"
   },
   "outputs": [],
   "source": [
    "# Scene\n",
    "scene = canvas(background=color.white) \n",
    "\n",
    "# Objects\n",
    "redGimbal = ring(pos=vector(0,0,0), axis=vector(0,0,1), radius=2, thickness=0.2,color=vector(0.9,0,0))\n",
    "blueGimbal1 = cylinder(pos=vector(0,0,0), axis=vector(0,2,0), radius=0.3,color=color.blue)\n",
    "blueGimbal2 = cylinder(pos=vector(0,0,0), axis=vector(0,-2,0), radius=0.3,color=color.blue)\n",
    "disk1 = cylinder(pos=vector(0,0,0), axis=vector(0,0,0.15), radius=1.3,color=color.yellow)\n",
    "disk2 = cylinder(pos=vector(0,0,0), axis=vector(0,0,-0.15), radius=1.3,color=color.yellow)\n",
    "baseR = extrusion(path=[vec(0,0,0), vec(0.7,0,0)],shape=[ shapes.circle(radius=0.5) ], pos=vec(2,0,0), color=color.black)\n",
    "baseL = extrusion(path=[vec(-0.7,0,0), vec(0,0,0)],shape=[ shapes.circle(radius=0.5) ], pos=vec(-2,0,0), color=color.black)\n",
    "\n",
    "t = 0\n",
    "dt = 0.01\n",
    "loops = 0\n",
    "ctime = 0\n",
    "start = clock()\n",
    "N = 200\n",
    "\n",
    "# 6.4/100\n",
    "for k in range(len(time)):\n",
    "    rate(N)\n",
    "    ct = clock()\n",
    "    theta = val[k][0]\n",
    "    phi = val[k][2]\n",
    "    redGimbal.axis = vector(0,-sin(theta), cos(theta))\n",
    "    blueGimbal1.axis = 2*vector(0,cos(theta), sin(theta))\n",
    "    blueGimbal2.axis = -2*vector(0,cos(theta), sin(theta))\n",
    "    disk1.axis = 0.15*vector(-sin(phi),-sin(theta)*cos(phi),cos(theta)*cos(phi))\n",
    "    disk2.axis = -0.15*vector(-sin(phi),-sin(theta)*cos(phi),cos(theta)*cos(phi))\n",
    "    ctime += clock()-ct\n",
    "    loops += 1"
   ]
  }
 ],
 "metadata": {
  "accelerator": "GPU",
  "colab": {
   "collapsed_sections": [],
   "name": "gyroscope_ddpg_testing.ipynb",
   "provenance": []
  },
  "kernelspec": {
   "display_name": "Python 3",
   "language": "python",
   "name": "python3"
  },
  "language_info": {
   "codemirror_mode": {
    "name": "ipython",
    "version": 3
   },
   "file_extension": ".py",
   "mimetype": "text/x-python",
   "name": "python",
   "nbconvert_exporter": "python",
   "pygments_lexer": "ipython3",
   "version": "3.7.9"
  }
 },
 "nbformat": 4,
 "nbformat_minor": 4
}
